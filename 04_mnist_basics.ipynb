{
 "cells": [
  {
   "cell_type": "code",
   "execution_count": 1,
   "id": "ab17558b-8bbc-4618-b2d8-bd47534694a4",
   "metadata": {},
   "outputs": [],
   "source": [
    "from fastai.vision.all import *"
   ]
  },
  {
   "cell_type": "code",
   "execution_count": 2,
   "id": "450630bd-39e3-46a7-b960-74424edcddca",
   "metadata": {},
   "outputs": [],
   "source": [
    "path = untar_data(URLs.MNIST_SAMPLE)"
   ]
  },
  {
   "cell_type": "code",
   "execution_count": 3,
   "id": "86a1c5d5-a9bd-44f2-a7d5-537b4eeabde1",
   "metadata": {},
   "outputs": [
    {
     "data": {
      "text/plain": [
       "(#3) [Path('/Users/marco/.fastai/data/mnist_sample/valid'),Path('/Users/marco/.fastai/data/mnist_sample/labels.csv'),Path('/Users/marco/.fastai/data/mnist_sample/train')]"
      ]
     },
     "execution_count": 3,
     "metadata": {},
     "output_type": "execute_result"
    }
   ],
   "source": [
    "path.ls()"
   ]
  },
  {
   "cell_type": "code",
   "execution_count": 4,
   "id": "52b83188-f415-4d33-9c5b-8258abb7fcb7",
   "metadata": {},
   "outputs": [],
   "source": [
    "threes = (path/'train'/'3').ls().sorted()\n",
    "sevens = (path/'train'/'7').ls().sorted()"
   ]
  },
  {
   "cell_type": "code",
   "execution_count": 5,
   "id": "c123aa82-3879-422f-9bd8-a96a648087f5",
   "metadata": {},
   "outputs": [
    {
     "data": {
      "image/jpeg": "[encoded data removed]",
      "image/png": "[encoded data removed]",
      "text/plain": [
       "PILImage mode=RGB size=28x28"
      ]
     },
     "execution_count": 5,
     "metadata": {},
     "output_type": "execute_result"
    }
   ],
   "source": [
    "PILImage.create(threes[3])"
   ]
  },
  {
   "cell_type": "code",
   "execution_count": 6,
   "id": "154c4c73-2216-4b8f-8143-6c6193ba70e3",
   "metadata": {},
   "outputs": [
    {
     "data": {
      "image/jpeg": "[encoded data removed]",
      "image/png": "[encoded data removed]",
      "text/plain": [
       "<PIL.PngImagePlugin.PngImageFile image mode=L size=28x28>"
      ]
     },
     "execution_count": 6,
     "metadata": {},
     "output_type": "execute_result"
    }
   ],
   "source": [
    "im3 = Image.open(threes[1])\n",
    "im3"
   ]
  },
  {
   "cell_type": "code",
   "execution_count": 7,
   "id": "bc216901-5f68-4fea-a8a0-629c25fd1e65",
   "metadata": {},
   "outputs": [
    {
     "data": {
      "text/plain": [
       "array([[  0,   0,   0,   0,   0,   0,   0,   0,   0,   0,   0],\n",
       "       [  0,   0,   0,   0,   0,  29, 150, 195, 254, 255, 254],\n",
       "       [  0,   0,   0,  48, 166, 224, 253, 253, 234, 196, 253],\n",
       "       [  0,  93, 244, 249, 253, 187,  46,  10,   8,   4,  10],\n",
       "       [  0, 107, 253, 253, 230,  48,   0,   0,   0,   0,   0],\n",
       "       [  0,   3,  20,  20,  15,   0,   0,   0,   0,   0,  43],\n",
       "       [  0,   0,   0,   0,   0,   0,   0,   0,   0,   0, 249],\n",
       "       [  0,   0,   0,   0,   0,   0,   0,  14, 101, 223, 253],\n",
       "       [  0,   0,   0,   0,   0,  11, 166, 239, 253, 253, 253],\n",
       "       [  0,   0,   0,   0,   0,  16, 248, 250, 253, 253, 253],\n",
       "       [  0,   0,   0,   0,   0,   0,   0,  43,  98,  98, 208]],\n",
       "      dtype=uint8)"
      ]
     },
     "execution_count": 7,
     "metadata": {},
     "output_type": "execute_result"
    }
   ],
   "source": [
    "array(im3)[4:15,4:15]"
   ]
  },
  {
   "cell_type": "code",
   "execution_count": 8,
   "id": "21666cba-7aaf-4ff0-954c-58dee1bfcf16",
   "metadata": {},
   "outputs": [
    {
     "data": {
      "text/plain": [
       "tensor([[  0,   0,   0,   0,   0,   0,   0,   0,   0,   0,   0],\n",
       "        [  0,   0,   0,   0,   0,  29, 150, 195, 254, 255, 254],\n",
       "        [  0,   0,   0,  48, 166, 224, 253, 253, 234, 196, 253],\n",
       "        [  0,  93, 244, 249, 253, 187,  46,  10,   8,   4,  10],\n",
       "        [  0, 107, 253, 253, 230,  48,   0,   0,   0,   0,   0],\n",
       "        [  0,   3,  20,  20,  15,   0,   0,   0,   0,   0,  43],\n",
       "        [  0,   0,   0,   0,   0,   0,   0,   0,   0,   0, 249],\n",
       "        [  0,   0,   0,   0,   0,   0,   0,  14, 101, 223, 253],\n",
       "        [  0,   0,   0,   0,   0,  11, 166, 239, 253, 253, 253],\n",
       "        [  0,   0,   0,   0,   0,  16, 248, 250, 253, 253, 253],\n",
       "        [  0,   0,   0,   0,   0,   0,   0,  43,  98,  98, 208]],\n",
       "       dtype=torch.uint8)"
      ]
     },
     "execution_count": 8,
     "metadata": {},
     "output_type": "execute_result"
    }
   ],
   "source": [
    "tensor(im3)[4:15,4:15]"
   ]
  },
  {
   "cell_type": "code",
   "execution_count": 9,
   "id": "b7f3e459-767a-4e29-aeec-e00e3f01be84",
   "metadata": {},
   "outputs": [
    {
     "data": {
      "text/html": [
       "<style type=\"text/css\">\n",
       "#T_643d4_row0_col0, #T_643d4_row0_col1, #T_643d4_row0_col2, #T_643d4_row0_col3, #T_643d4_row0_col4, #T_643d4_row0_col5, #T_643d4_row0_col6, #T_643d4_row0_col7, #T_643d4_row0_col8, #T_643d4_row0_col9, #T_643d4_row0_col10, #T_643d4_row0_col11, #T_643d4_row0_col12, #T_643d4_row0_col13, #T_643d4_row0_col14, #T_643d4_row0_col15, #T_643d4_row0_col16, #T_643d4_row0_col17, #T_643d4_row0_col18, #T_643d4_row0_col19, #T_643d4_row0_col20, #T_643d4_row1_col0, #T_643d4_row1_col1, #T_643d4_row1_col2, #T_643d4_row1_col3, #T_643d4_row1_col4, #T_643d4_row1_col15, #T_643d4_row1_col16, #T_643d4_row1_col17, #T_643d4_row1_col18, #T_643d4_row1_col19, #T_643d4_row1_col20, #T_643d4_row2_col0, #T_643d4_row2_col1, #T_643d4_row2_col2, #T_643d4_row2_col15, #T_643d4_row2_col16, #T_643d4_row2_col17, #T_643d4_row2_col18, #T_643d4_row2_col19, #T_643d4_row2_col20, #T_643d4_row3_col0, #T_643d4_row3_col15, #T_643d4_row3_col16, #T_643d4_row3_col17, #T_643d4_row3_col18, #T_643d4_row3_col19, #T_643d4_row3_col20, #T_643d4_row4_col0, #T_643d4_row4_col6, #T_643d4_row4_col7, #T_643d4_row4_col8, #T_643d4_row4_col9, #T_643d4_row4_col10, #T_643d4_row4_col15, #T_643d4_row4_col16, #T_643d4_row4_col17, #T_643d4_row4_col18, #T_643d4_row4_col19, #T_643d4_row4_col20, #T_643d4_row5_col0, #T_643d4_row5_col5, #T_643d4_row5_col6, #T_643d4_row5_col7, #T_643d4_row5_col8, #T_643d4_row5_col9, #T_643d4_row5_col15, #T_643d4_row5_col16, #T_643d4_row5_col17, #T_643d4_row5_col18, #T_643d4_row5_col19, #T_643d4_row5_col20, #T_643d4_row6_col0, #T_643d4_row6_col1, #T_643d4_row6_col2, #T_643d4_row6_col3, #T_643d4_row6_col4, #T_643d4_row6_col5, #T_643d4_row6_col6, #T_643d4_row6_col7, #T_643d4_row6_col8, #T_643d4_row6_col9, #T_643d4_row6_col14, #T_643d4_row6_col15, #T_643d4_row6_col16, #T_643d4_row6_col17, #T_643d4_row6_col18, #T_643d4_row6_col19, #T_643d4_row6_col20, #T_643d4_row7_col0, #T_643d4_row7_col1, #T_643d4_row7_col2, #T_643d4_row7_col3, #T_643d4_row7_col4, #T_643d4_row7_col5, #T_643d4_row7_col6, #T_643d4_row7_col13, #T_643d4_row7_col14, #T_643d4_row7_col15, #T_643d4_row7_col16, #T_643d4_row7_col17, #T_643d4_row7_col18, #T_643d4_row7_col19, #T_643d4_row7_col20, #T_643d4_row8_col0, #T_643d4_row8_col1, #T_643d4_row8_col2, #T_643d4_row8_col3, #T_643d4_row8_col4, #T_643d4_row8_col13, #T_643d4_row8_col14, #T_643d4_row8_col15, #T_643d4_row8_col16, #T_643d4_row8_col17, #T_643d4_row8_col18, #T_643d4_row8_col19, #T_643d4_row8_col20, #T_643d4_row9_col0, #T_643d4_row9_col1, #T_643d4_row9_col2, #T_643d4_row9_col3, #T_643d4_row9_col4, #T_643d4_row9_col16, #T_643d4_row9_col17, #T_643d4_row9_col18, #T_643d4_row9_col19, #T_643d4_row9_col20, #T_643d4_row10_col0, #T_643d4_row10_col1, #T_643d4_row10_col2, #T_643d4_row10_col3, #T_643d4_row10_col4, #T_643d4_row10_col5, #T_643d4_row10_col6, #T_643d4_row10_col17, #T_643d4_row10_col18, #T_643d4_row10_col19, #T_643d4_row10_col20 {\n",
       "  font-size: 6pt;\n",
       "  background-color: #f7fcf5;\n",
       "  color: #000000;\n",
       "}\n",
       "#T_643d4_row1_col5 {\n",
       "  font-size: 6pt;\n",
       "  background-color: #e4f5df;\n",
       "  color: #000000;\n",
       "}\n",
       "#T_643d4_row1_col6, #T_643d4_row1_col13 {\n",
       "  font-size: 6pt;\n",
       "  background-color: #4eb264;\n",
       "  color: #f1f1f1;\n",
       "}\n",
       "#T_643d4_row1_col7 {\n",
       "  font-size: 6pt;\n",
       "  background-color: #1d8640;\n",
       "  color: #f1f1f1;\n",
       "}\n",
       "#T_643d4_row1_col8, #T_643d4_row1_col9, #T_643d4_row1_col10, #T_643d4_row2_col5, #T_643d4_row2_col6, #T_643d4_row2_col7, #T_643d4_row2_col11, #T_643d4_row2_col12, #T_643d4_row2_col13, #T_643d4_row3_col4, #T_643d4_row3_col12, #T_643d4_row3_col13, #T_643d4_row4_col1, #T_643d4_row4_col2, #T_643d4_row4_col3, #T_643d4_row4_col12, #T_643d4_row4_col13, #T_643d4_row5_col12, #T_643d4_row6_col11, #T_643d4_row9_col11, #T_643d4_row10_col11, #T_643d4_row10_col12, #T_643d4_row10_col13, #T_643d4_row10_col14, #T_643d4_row10_col15, #T_643d4_row10_col16 {\n",
       "  font-size: 6pt;\n",
       "  background-color: #00441b;\n",
       "  color: #f1f1f1;\n",
       "}\n",
       "#T_643d4_row1_col11 {\n",
       "  font-size: 6pt;\n",
       "  background-color: #2f984f;\n",
       "  color: #f1f1f1;\n",
       "}\n",
       "#T_643d4_row1_col12 {\n",
       "  font-size: 6pt;\n",
       "  background-color: #1f8742;\n",
       "  color: #f1f1f1;\n",
       "}\n",
       "#T_643d4_row1_col14 {\n",
       "  font-size: 6pt;\n",
       "  background-color: #9fd899;\n",
       "  color: #000000;\n",
       "}\n",
       "#T_643d4_row2_col3 {\n",
       "  font-size: 6pt;\n",
       "  background-color: #d6efd0;\n",
       "  color: #000000;\n",
       "}\n",
       "#T_643d4_row2_col4, #T_643d4_row8_col6 {\n",
       "  font-size: 6pt;\n",
       "  background-color: #3aa357;\n",
       "  color: #f1f1f1;\n",
       "}\n",
       "#T_643d4_row2_col8, #T_643d4_row2_col14, #T_643d4_row3_col14 {\n",
       "  font-size: 6pt;\n",
       "  background-color: #005e26;\n",
       "  color: #f1f1f1;\n",
       "}\n",
       "#T_643d4_row2_col9, #T_643d4_row3_col11 {\n",
       "  font-size: 6pt;\n",
       "  background-color: #1e8741;\n",
       "  color: #f1f1f1;\n",
       "}\n",
       "#T_643d4_row2_col10, #T_643d4_row7_col10, #T_643d4_row8_col8, #T_643d4_row8_col10, #T_643d4_row9_col8, #T_643d4_row9_col10 {\n",
       "  font-size: 6pt;\n",
       "  background-color: #00451c;\n",
       "  color: #f1f1f1;\n",
       "}\n",
       "#T_643d4_row3_col1 {\n",
       "  font-size: 6pt;\n",
       "  background-color: #016e2d;\n",
       "  color: #f1f1f1;\n",
       "}\n",
       "#T_643d4_row3_col2 {\n",
       "  font-size: 6pt;\n",
       "  background-color: #005020;\n",
       "  color: #f1f1f1;\n",
       "}\n",
       "#T_643d4_row3_col3 {\n",
       "  font-size: 6pt;\n",
       "  background-color: #00491d;\n",
       "  color: #f1f1f1;\n",
       "}\n",
       "#T_643d4_row3_col5 {\n",
       "  font-size: 6pt;\n",
       "  background-color: #0b7734;\n",
       "  color: #f1f1f1;\n",
       "}\n",
       "#T_643d4_row3_col6 {\n",
       "  font-size: 6pt;\n",
       "  background-color: #d8f0d2;\n",
       "  color: #000000;\n",
       "}\n",
       "#T_643d4_row3_col7, #T_643d4_row3_col10 {\n",
       "  font-size: 6pt;\n",
       "  background-color: #f1faee;\n",
       "  color: #000000;\n",
       "}\n",
       "#T_643d4_row3_col8 {\n",
       "  font-size: 6pt;\n",
       "  background-color: #f2faf0;\n",
       "  color: #000000;\n",
       "}\n",
       "#T_643d4_row3_col9 {\n",
       "  font-size: 6pt;\n",
       "  background-color: #f5fbf2;\n",
       "  color: #000000;\n",
       "}\n",
       "#T_643d4_row4_col4 {\n",
       "  font-size: 6pt;\n",
       "  background-color: #006227;\n",
       "  color: #f1f1f1;\n",
       "}\n",
       "#T_643d4_row4_col5 {\n",
       "  font-size: 6pt;\n",
       "  background-color: #d0edca;\n",
       "  color: #000000;\n",
       "}\n",
       "#T_643d4_row4_col11 {\n",
       "  font-size: 6pt;\n",
       "  background-color: #208843;\n",
       "  color: #f1f1f1;\n",
       "}\n",
       "#T_643d4_row4_col14 {\n",
       "  font-size: 6pt;\n",
       "  background-color: #45ad5f;\n",
       "  color: #f1f1f1;\n",
       "}\n",
       "#T_643d4_row5_col1 {\n",
       "  font-size: 6pt;\n",
       "  background-color: #f3faf0;\n",
       "  color: #000000;\n",
       "}\n",
       "#T_643d4_row5_col2, #T_643d4_row5_col3 {\n",
       "  font-size: 6pt;\n",
       "  background-color: #ecf8e8;\n",
       "  color: #000000;\n",
       "}\n",
       "#T_643d4_row5_col4 {\n",
       "  font-size: 6pt;\n",
       "  background-color: #eff9eb;\n",
       "  color: #000000;\n",
       "}\n",
       "#T_643d4_row5_col10, #T_643d4_row10_col7 {\n",
       "  font-size: 6pt;\n",
       "  background-color: #dbf1d5;\n",
       "  color: #000000;\n",
       "}\n",
       "#T_643d4_row5_col11 {\n",
       "  font-size: 6pt;\n",
       "  background-color: #00692a;\n",
       "  color: #f1f1f1;\n",
       "}\n",
       "#T_643d4_row5_col13, #T_643d4_row6_col12 {\n",
       "  font-size: 6pt;\n",
       "  background-color: #004e1f;\n",
       "  color: #f1f1f1;\n",
       "}\n",
       "#T_643d4_row5_col14 {\n",
       "  font-size: 6pt;\n",
       "  background-color: #bbe4b4;\n",
       "  color: #000000;\n",
       "}\n",
       "#T_643d4_row6_col10, #T_643d4_row7_col11, #T_643d4_row9_col6 {\n",
       "  font-size: 6pt;\n",
       "  background-color: #004a1e;\n",
       "  color: #f1f1f1;\n",
       "}\n",
       "#T_643d4_row6_col13 {\n",
       "  font-size: 6pt;\n",
       "  background-color: #75c477;\n",
       "  color: #000000;\n",
       "}\n",
       "#T_643d4_row7_col7 {\n",
       "  font-size: 6pt;\n",
       "  background-color: #eff9ec;\n",
       "  color: #000000;\n",
       "}\n",
       "#T_643d4_row7_col8 {\n",
       "  font-size: 6pt;\n",
       "  background-color: #99d595;\n",
       "  color: #000000;\n",
       "}\n",
       "#T_643d4_row7_col9 {\n",
       "  font-size: 6pt;\n",
       "  background-color: #006d2c;\n",
       "  color: #f1f1f1;\n",
       "}\n",
       "#T_643d4_row7_col12 {\n",
       "  font-size: 6pt;\n",
       "  background-color: #78c679;\n",
       "  color: #000000;\n",
       "}\n",
       "#T_643d4_row8_col5 {\n",
       "  font-size: 6pt;\n",
       "  background-color: #f0f9ed;\n",
       "  color: #000000;\n",
       "}\n",
       "#T_643d4_row8_col7 {\n",
       "  font-size: 6pt;\n",
       "  background-color: #005622;\n",
       "  color: #f1f1f1;\n",
       "}\n",
       "#T_643d4_row8_col9, #T_643d4_row9_col9 {\n",
       "  font-size: 6pt;\n",
       "  background-color: #00471c;\n",
       "  color: #f1f1f1;\n",
       "}\n",
       "#T_643d4_row8_col11 {\n",
       "  font-size: 6pt;\n",
       "  background-color: #258d47;\n",
       "  color: #f1f1f1;\n",
       "}\n",
       "#T_643d4_row8_col12 {\n",
       "  font-size: 6pt;\n",
       "  background-color: #e6f5e1;\n",
       "  color: #000000;\n",
       "}\n",
       "#T_643d4_row9_col5 {\n",
       "  font-size: 6pt;\n",
       "  background-color: #edf8e9;\n",
       "  color: #000000;\n",
       "}\n",
       "#T_643d4_row9_col7 {\n",
       "  font-size: 6pt;\n",
       "  background-color: #00481d;\n",
       "  color: #f1f1f1;\n",
       "}\n",
       "#T_643d4_row9_col12 {\n",
       "  font-size: 6pt;\n",
       "  background-color: #005f26;\n",
       "  color: #f1f1f1;\n",
       "}\n",
       "#T_643d4_row9_col13 {\n",
       "  font-size: 6pt;\n",
       "  background-color: #097532;\n",
       "  color: #f1f1f1;\n",
       "}\n",
       "#T_643d4_row9_col14 {\n",
       "  font-size: 6pt;\n",
       "  background-color: #8ace88;\n",
       "  color: #000000;\n",
       "}\n",
       "#T_643d4_row9_col15 {\n",
       "  font-size: 6pt;\n",
       "  background-color: #f6fcf4;\n",
       "  color: #000000;\n",
       "}\n",
       "#T_643d4_row10_col8, #T_643d4_row10_col9 {\n",
       "  font-size: 6pt;\n",
       "  background-color: #9ed798;\n",
       "  color: #000000;\n",
       "}\n",
       "#T_643d4_row10_col10 {\n",
       "  font-size: 6pt;\n",
       "  background-color: #107a37;\n",
       "  color: #f1f1f1;\n",
       "}\n",
       "</style>\n",
       "<table id=\"T_643d4\">\n",
       "  <thead>\n",
       "    <tr>\n",
       "      <th class=\"blank level0\" >&nbsp;</th>\n",
       "      <th id=\"T_643d4_level0_col0\" class=\"col_heading level0 col0\" >0</th>\n",
       "      <th id=\"T_643d4_level0_col1\" class=\"col_heading level0 col1\" >1</th>\n",
       "      <th id=\"T_643d4_level0_col2\" class=\"col_heading level0 col2\" >2</th>\n",
       "      <th id=\"T_643d4_level0_col3\" class=\"col_heading level0 col3\" >3</th>\n",
       "      <th id=\"T_643d4_level0_col4\" class=\"col_heading level0 col4\" >4</th>\n",
       "      <th id=\"T_643d4_level0_col5\" class=\"col_heading level0 col5\" >5</th>\n",
       "      <th id=\"T_643d4_level0_col6\" class=\"col_heading level0 col6\" >6</th>\n",
       "      <th id=\"T_643d4_level0_col7\" class=\"col_heading level0 col7\" >7</th>\n",
       "      <th id=\"T_643d4_level0_col8\" class=\"col_heading level0 col8\" >8</th>\n",
       "      <th id=\"T_643d4_level0_col9\" class=\"col_heading level0 col9\" >9</th>\n",
       "      <th id=\"T_643d4_level0_col10\" class=\"col_heading level0 col10\" >10</th>\n",
       "      <th id=\"T_643d4_level0_col11\" class=\"col_heading level0 col11\" >11</th>\n",
       "      <th id=\"T_643d4_level0_col12\" class=\"col_heading level0 col12\" >12</th>\n",
       "      <th id=\"T_643d4_level0_col13\" class=\"col_heading level0 col13\" >13</th>\n",
       "      <th id=\"T_643d4_level0_col14\" class=\"col_heading level0 col14\" >14</th>\n",
       "      <th id=\"T_643d4_level0_col15\" class=\"col_heading level0 col15\" >15</th>\n",
       "      <th id=\"T_643d4_level0_col16\" class=\"col_heading level0 col16\" >16</th>\n",
       "      <th id=\"T_643d4_level0_col17\" class=\"col_heading level0 col17\" >17</th>\n",
       "      <th id=\"T_643d4_level0_col18\" class=\"col_heading level0 col18\" >18</th>\n",
       "      <th id=\"T_643d4_level0_col19\" class=\"col_heading level0 col19\" >19</th>\n",
       "      <th id=\"T_643d4_level0_col20\" class=\"col_heading level0 col20\" >20</th>\n",
       "    </tr>\n",
       "  </thead>\n",
       "  <tbody>\n",
       "    <tr>\n",
       "      <th id=\"T_643d4_level0_row0\" class=\"row_heading level0 row0\" >0</th>\n",
       "      <td id=\"T_643d4_row0_col0\" class=\"data row0 col0\" >0</td>\n",
       "      <td id=\"T_643d4_row0_col1\" class=\"data row0 col1\" >0</td>\n",
       "      <td id=\"T_643d4_row0_col2\" class=\"data row0 col2\" >0</td>\n",
       "      <td id=\"T_643d4_row0_col3\" class=\"data row0 col3\" >0</td>\n",
       "      <td id=\"T_643d4_row0_col4\" class=\"data row0 col4\" >0</td>\n",
       "      <td id=\"T_643d4_row0_col5\" class=\"data row0 col5\" >0</td>\n",
       "      <td id=\"T_643d4_row0_col6\" class=\"data row0 col6\" >0</td>\n",
       "      <td id=\"T_643d4_row0_col7\" class=\"data row0 col7\" >0</td>\n",
       "      <td id=\"T_643d4_row0_col8\" class=\"data row0 col8\" >0</td>\n",
       "      <td id=\"T_643d4_row0_col9\" class=\"data row0 col9\" >0</td>\n",
       "      <td id=\"T_643d4_row0_col10\" class=\"data row0 col10\" >0</td>\n",
       "      <td id=\"T_643d4_row0_col11\" class=\"data row0 col11\" >0</td>\n",
       "      <td id=\"T_643d4_row0_col12\" class=\"data row0 col12\" >0</td>\n",
       "      <td id=\"T_643d4_row0_col13\" class=\"data row0 col13\" >0</td>\n",
       "      <td id=\"T_643d4_row0_col14\" class=\"data row0 col14\" >0</td>\n",
       "      <td id=\"T_643d4_row0_col15\" class=\"data row0 col15\" >0</td>\n",
       "      <td id=\"T_643d4_row0_col16\" class=\"data row0 col16\" >0</td>\n",
       "      <td id=\"T_643d4_row0_col17\" class=\"data row0 col17\" >0</td>\n",
       "      <td id=\"T_643d4_row0_col18\" class=\"data row0 col18\" >0</td>\n",
       "      <td id=\"T_643d4_row0_col19\" class=\"data row0 col19\" >0</td>\n",
       "      <td id=\"T_643d4_row0_col20\" class=\"data row0 col20\" >0</td>\n",
       "    </tr>\n",
       "    <tr>\n",
       "      <th id=\"T_643d4_level0_row1\" class=\"row_heading level0 row1\" >1</th>\n",
       "      <td id=\"T_643d4_row1_col0\" class=\"data row1 col0\" >0</td>\n",
       "      <td id=\"T_643d4_row1_col1\" class=\"data row1 col1\" >0</td>\n",
       "      <td id=\"T_643d4_row1_col2\" class=\"data row1 col2\" >0</td>\n",
       "      <td id=\"T_643d4_row1_col3\" class=\"data row1 col3\" >0</td>\n",
       "      <td id=\"T_643d4_row1_col4\" class=\"data row1 col4\" >0</td>\n",
       "      <td id=\"T_643d4_row1_col5\" class=\"data row1 col5\" >29</td>\n",
       "      <td id=\"T_643d4_row1_col6\" class=\"data row1 col6\" >150</td>\n",
       "      <td id=\"T_643d4_row1_col7\" class=\"data row1 col7\" >195</td>\n",
       "      <td id=\"T_643d4_row1_col8\" class=\"data row1 col8\" >254</td>\n",
       "      <td id=\"T_643d4_row1_col9\" class=\"data row1 col9\" >255</td>\n",
       "      <td id=\"T_643d4_row1_col10\" class=\"data row1 col10\" >254</td>\n",
       "      <td id=\"T_643d4_row1_col11\" class=\"data row1 col11\" >176</td>\n",
       "      <td id=\"T_643d4_row1_col12\" class=\"data row1 col12\" >193</td>\n",
       "      <td id=\"T_643d4_row1_col13\" class=\"data row1 col13\" >150</td>\n",
       "      <td id=\"T_643d4_row1_col14\" class=\"data row1 col14\" >96</td>\n",
       "      <td id=\"T_643d4_row1_col15\" class=\"data row1 col15\" >0</td>\n",
       "      <td id=\"T_643d4_row1_col16\" class=\"data row1 col16\" >0</td>\n",
       "      <td id=\"T_643d4_row1_col17\" class=\"data row1 col17\" >0</td>\n",
       "      <td id=\"T_643d4_row1_col18\" class=\"data row1 col18\" >0</td>\n",
       "      <td id=\"T_643d4_row1_col19\" class=\"data row1 col19\" >0</td>\n",
       "      <td id=\"T_643d4_row1_col20\" class=\"data row1 col20\" >0</td>\n",
       "    </tr>\n",
       "    <tr>\n",
       "      <th id=\"T_643d4_level0_row2\" class=\"row_heading level0 row2\" >2</th>\n",
       "      <td id=\"T_643d4_row2_col0\" class=\"data row2 col0\" >0</td>\n",
       "      <td id=\"T_643d4_row2_col1\" class=\"data row2 col1\" >0</td>\n",
       "      <td id=\"T_643d4_row2_col2\" class=\"data row2 col2\" >0</td>\n",
       "      <td id=\"T_643d4_row2_col3\" class=\"data row2 col3\" >48</td>\n",
       "      <td id=\"T_643d4_row2_col4\" class=\"data row2 col4\" >166</td>\n",
       "      <td id=\"T_643d4_row2_col5\" class=\"data row2 col5\" >224</td>\n",
       "      <td id=\"T_643d4_row2_col6\" class=\"data row2 col6\" >253</td>\n",
       "      <td id=\"T_643d4_row2_col7\" class=\"data row2 col7\" >253</td>\n",
       "      <td id=\"T_643d4_row2_col8\" class=\"data row2 col8\" >234</td>\n",
       "      <td id=\"T_643d4_row2_col9\" class=\"data row2 col9\" >196</td>\n",
       "      <td id=\"T_643d4_row2_col10\" class=\"data row2 col10\" >253</td>\n",
       "      <td id=\"T_643d4_row2_col11\" class=\"data row2 col11\" >253</td>\n",
       "      <td id=\"T_643d4_row2_col12\" class=\"data row2 col12\" >253</td>\n",
       "      <td id=\"T_643d4_row2_col13\" class=\"data row2 col13\" >253</td>\n",
       "      <td id=\"T_643d4_row2_col14\" class=\"data row2 col14\" >233</td>\n",
       "      <td id=\"T_643d4_row2_col15\" class=\"data row2 col15\" >0</td>\n",
       "      <td id=\"T_643d4_row2_col16\" class=\"data row2 col16\" >0</td>\n",
       "      <td id=\"T_643d4_row2_col17\" class=\"data row2 col17\" >0</td>\n",
       "      <td id=\"T_643d4_row2_col18\" class=\"data row2 col18\" >0</td>\n",
       "      <td id=\"T_643d4_row2_col19\" class=\"data row2 col19\" >0</td>\n",
       "      <td id=\"T_643d4_row2_col20\" class=\"data row2 col20\" >0</td>\n",
       "    </tr>\n",
       "    <tr>\n",
       "      <th id=\"T_643d4_level0_row3\" class=\"row_heading level0 row3\" >3</th>\n",
       "      <td id=\"T_643d4_row3_col0\" class=\"data row3 col0\" >0</td>\n",
       "      <td id=\"T_643d4_row3_col1\" class=\"data row3 col1\" >93</td>\n",
       "      <td id=\"T_643d4_row3_col2\" class=\"data row3 col2\" >244</td>\n",
       "      <td id=\"T_643d4_row3_col3\" class=\"data row3 col3\" >249</td>\n",
       "      <td id=\"T_643d4_row3_col4\" class=\"data row3 col4\" >253</td>\n",
       "      <td id=\"T_643d4_row3_col5\" class=\"data row3 col5\" >187</td>\n",
       "      <td id=\"T_643d4_row3_col6\" class=\"data row3 col6\" >46</td>\n",
       "      <td id=\"T_643d4_row3_col7\" class=\"data row3 col7\" >10</td>\n",
       "      <td id=\"T_643d4_row3_col8\" class=\"data row3 col8\" >8</td>\n",
       "      <td id=\"T_643d4_row3_col9\" class=\"data row3 col9\" >4</td>\n",
       "      <td id=\"T_643d4_row3_col10\" class=\"data row3 col10\" >10</td>\n",
       "      <td id=\"T_643d4_row3_col11\" class=\"data row3 col11\" >194</td>\n",
       "      <td id=\"T_643d4_row3_col12\" class=\"data row3 col12\" >253</td>\n",
       "      <td id=\"T_643d4_row3_col13\" class=\"data row3 col13\" >253</td>\n",
       "      <td id=\"T_643d4_row3_col14\" class=\"data row3 col14\" >233</td>\n",
       "      <td id=\"T_643d4_row3_col15\" class=\"data row3 col15\" >0</td>\n",
       "      <td id=\"T_643d4_row3_col16\" class=\"data row3 col16\" >0</td>\n",
       "      <td id=\"T_643d4_row3_col17\" class=\"data row3 col17\" >0</td>\n",
       "      <td id=\"T_643d4_row3_col18\" class=\"data row3 col18\" >0</td>\n",
       "      <td id=\"T_643d4_row3_col19\" class=\"data row3 col19\" >0</td>\n",
       "      <td id=\"T_643d4_row3_col20\" class=\"data row3 col20\" >0</td>\n",
       "    </tr>\n",
       "    <tr>\n",
       "      <th id=\"T_643d4_level0_row4\" class=\"row_heading level0 row4\" >4</th>\n",
       "      <td id=\"T_643d4_row4_col0\" class=\"data row4 col0\" >0</td>\n",
       "      <td id=\"T_643d4_row4_col1\" class=\"data row4 col1\" >107</td>\n",
       "      <td id=\"T_643d4_row4_col2\" class=\"data row4 col2\" >253</td>\n",
       "      <td id=\"T_643d4_row4_col3\" class=\"data row4 col3\" >253</td>\n",
       "      <td id=\"T_643d4_row4_col4\" class=\"data row4 col4\" >230</td>\n",
       "      <td id=\"T_643d4_row4_col5\" class=\"data row4 col5\" >48</td>\n",
       "      <td id=\"T_643d4_row4_col6\" class=\"data row4 col6\" >0</td>\n",
       "      <td id=\"T_643d4_row4_col7\" class=\"data row4 col7\" >0</td>\n",
       "      <td id=\"T_643d4_row4_col8\" class=\"data row4 col8\" >0</td>\n",
       "      <td id=\"T_643d4_row4_col9\" class=\"data row4 col9\" >0</td>\n",
       "      <td id=\"T_643d4_row4_col10\" class=\"data row4 col10\" >0</td>\n",
       "      <td id=\"T_643d4_row4_col11\" class=\"data row4 col11\" >192</td>\n",
       "      <td id=\"T_643d4_row4_col12\" class=\"data row4 col12\" >253</td>\n",
       "      <td id=\"T_643d4_row4_col13\" class=\"data row4 col13\" >253</td>\n",
       "      <td id=\"T_643d4_row4_col14\" class=\"data row4 col14\" >156</td>\n",
       "      <td id=\"T_643d4_row4_col15\" class=\"data row4 col15\" >0</td>\n",
       "      <td id=\"T_643d4_row4_col16\" class=\"data row4 col16\" >0</td>\n",
       "      <td id=\"T_643d4_row4_col17\" class=\"data row4 col17\" >0</td>\n",
       "      <td id=\"T_643d4_row4_col18\" class=\"data row4 col18\" >0</td>\n",
       "      <td id=\"T_643d4_row4_col19\" class=\"data row4 col19\" >0</td>\n",
       "      <td id=\"T_643d4_row4_col20\" class=\"data row4 col20\" >0</td>\n",
       "    </tr>\n",
       "    <tr>\n",
       "      <th id=\"T_643d4_level0_row5\" class=\"row_heading level0 row5\" >5</th>\n",
       "      <td id=\"T_643d4_row5_col0\" class=\"data row5 col0\" >0</td>\n",
       "      <td id=\"T_643d4_row5_col1\" class=\"data row5 col1\" >3</td>\n",
       "      <td id=\"T_643d4_row5_col2\" class=\"data row5 col2\" >20</td>\n",
       "      <td id=\"T_643d4_row5_col3\" class=\"data row5 col3\" >20</td>\n",
       "      <td id=\"T_643d4_row5_col4\" class=\"data row5 col4\" >15</td>\n",
       "      <td id=\"T_643d4_row5_col5\" class=\"data row5 col5\" >0</td>\n",
       "      <td id=\"T_643d4_row5_col6\" class=\"data row5 col6\" >0</td>\n",
       "      <td id=\"T_643d4_row5_col7\" class=\"data row5 col7\" >0</td>\n",
       "      <td id=\"T_643d4_row5_col8\" class=\"data row5 col8\" >0</td>\n",
       "      <td id=\"T_643d4_row5_col9\" class=\"data row5 col9\" >0</td>\n",
       "      <td id=\"T_643d4_row5_col10\" class=\"data row5 col10\" >43</td>\n",
       "      <td id=\"T_643d4_row5_col11\" class=\"data row5 col11\" >224</td>\n",
       "      <td id=\"T_643d4_row5_col12\" class=\"data row5 col12\" >253</td>\n",
       "      <td id=\"T_643d4_row5_col13\" class=\"data row5 col13\" >245</td>\n",
       "      <td id=\"T_643d4_row5_col14\" class=\"data row5 col14\" >74</td>\n",
       "      <td id=\"T_643d4_row5_col15\" class=\"data row5 col15\" >0</td>\n",
       "      <td id=\"T_643d4_row5_col16\" class=\"data row5 col16\" >0</td>\n",
       "      <td id=\"T_643d4_row5_col17\" class=\"data row5 col17\" >0</td>\n",
       "      <td id=\"T_643d4_row5_col18\" class=\"data row5 col18\" >0</td>\n",
       "      <td id=\"T_643d4_row5_col19\" class=\"data row5 col19\" >0</td>\n",
       "      <td id=\"T_643d4_row5_col20\" class=\"data row5 col20\" >0</td>\n",
       "    </tr>\n",
       "    <tr>\n",
       "      <th id=\"T_643d4_level0_row6\" class=\"row_heading level0 row6\" >6</th>\n",
       "      <td id=\"T_643d4_row6_col0\" class=\"data row6 col0\" >0</td>\n",
       "      <td id=\"T_643d4_row6_col1\" class=\"data row6 col1\" >0</td>\n",
       "      <td id=\"T_643d4_row6_col2\" class=\"data row6 col2\" >0</td>\n",
       "      <td id=\"T_643d4_row6_col3\" class=\"data row6 col3\" >0</td>\n",
       "      <td id=\"T_643d4_row6_col4\" class=\"data row6 col4\" >0</td>\n",
       "      <td id=\"T_643d4_row6_col5\" class=\"data row6 col5\" >0</td>\n",
       "      <td id=\"T_643d4_row6_col6\" class=\"data row6 col6\" >0</td>\n",
       "      <td id=\"T_643d4_row6_col7\" class=\"data row6 col7\" >0</td>\n",
       "      <td id=\"T_643d4_row6_col8\" class=\"data row6 col8\" >0</td>\n",
       "      <td id=\"T_643d4_row6_col9\" class=\"data row6 col9\" >0</td>\n",
       "      <td id=\"T_643d4_row6_col10\" class=\"data row6 col10\" >249</td>\n",
       "      <td id=\"T_643d4_row6_col11\" class=\"data row6 col11\" >253</td>\n",
       "      <td id=\"T_643d4_row6_col12\" class=\"data row6 col12\" >245</td>\n",
       "      <td id=\"T_643d4_row6_col13\" class=\"data row6 col13\" >126</td>\n",
       "      <td id=\"T_643d4_row6_col14\" class=\"data row6 col14\" >0</td>\n",
       "      <td id=\"T_643d4_row6_col15\" class=\"data row6 col15\" >0</td>\n",
       "      <td id=\"T_643d4_row6_col16\" class=\"data row6 col16\" >0</td>\n",
       "      <td id=\"T_643d4_row6_col17\" class=\"data row6 col17\" >0</td>\n",
       "      <td id=\"T_643d4_row6_col18\" class=\"data row6 col18\" >0</td>\n",
       "      <td id=\"T_643d4_row6_col19\" class=\"data row6 col19\" >0</td>\n",
       "      <td id=\"T_643d4_row6_col20\" class=\"data row6 col20\" >0</td>\n",
       "    </tr>\n",
       "    <tr>\n",
       "      <th id=\"T_643d4_level0_row7\" class=\"row_heading level0 row7\" >7</th>\n",
       "      <td id=\"T_643d4_row7_col0\" class=\"data row7 col0\" >0</td>\n",
       "      <td id=\"T_643d4_row7_col1\" class=\"data row7 col1\" >0</td>\n",
       "      <td id=\"T_643d4_row7_col2\" class=\"data row7 col2\" >0</td>\n",
       "      <td id=\"T_643d4_row7_col3\" class=\"data row7 col3\" >0</td>\n",
       "      <td id=\"T_643d4_row7_col4\" class=\"data row7 col4\" >0</td>\n",
       "      <td id=\"T_643d4_row7_col5\" class=\"data row7 col5\" >0</td>\n",
       "      <td id=\"T_643d4_row7_col6\" class=\"data row7 col6\" >0</td>\n",
       "      <td id=\"T_643d4_row7_col7\" class=\"data row7 col7\" >14</td>\n",
       "      <td id=\"T_643d4_row7_col8\" class=\"data row7 col8\" >101</td>\n",
       "      <td id=\"T_643d4_row7_col9\" class=\"data row7 col9\" >223</td>\n",
       "      <td id=\"T_643d4_row7_col10\" class=\"data row7 col10\" >253</td>\n",
       "      <td id=\"T_643d4_row7_col11\" class=\"data row7 col11\" >248</td>\n",
       "      <td id=\"T_643d4_row7_col12\" class=\"data row7 col12\" >124</td>\n",
       "      <td id=\"T_643d4_row7_col13\" class=\"data row7 col13\" >0</td>\n",
       "      <td id=\"T_643d4_row7_col14\" class=\"data row7 col14\" >0</td>\n",
       "      <td id=\"T_643d4_row7_col15\" class=\"data row7 col15\" >0</td>\n",
       "      <td id=\"T_643d4_row7_col16\" class=\"data row7 col16\" >0</td>\n",
       "      <td id=\"T_643d4_row7_col17\" class=\"data row7 col17\" >0</td>\n",
       "      <td id=\"T_643d4_row7_col18\" class=\"data row7 col18\" >0</td>\n",
       "      <td id=\"T_643d4_row7_col19\" class=\"data row7 col19\" >0</td>\n",
       "      <td id=\"T_643d4_row7_col20\" class=\"data row7 col20\" >0</td>\n",
       "    </tr>\n",
       "    <tr>\n",
       "      <th id=\"T_643d4_level0_row8\" class=\"row_heading level0 row8\" >8</th>\n",
       "      <td id=\"T_643d4_row8_col0\" class=\"data row8 col0\" >0</td>\n",
       "      <td id=\"T_643d4_row8_col1\" class=\"data row8 col1\" >0</td>\n",
       "      <td id=\"T_643d4_row8_col2\" class=\"data row8 col2\" >0</td>\n",
       "      <td id=\"T_643d4_row8_col3\" class=\"data row8 col3\" >0</td>\n",
       "      <td id=\"T_643d4_row8_col4\" class=\"data row8 col4\" >0</td>\n",
       "      <td id=\"T_643d4_row8_col5\" class=\"data row8 col5\" >11</td>\n",
       "      <td id=\"T_643d4_row8_col6\" class=\"data row8 col6\" >166</td>\n",
       "      <td id=\"T_643d4_row8_col7\" class=\"data row8 col7\" >239</td>\n",
       "      <td id=\"T_643d4_row8_col8\" class=\"data row8 col8\" >253</td>\n",
       "      <td id=\"T_643d4_row8_col9\" class=\"data row8 col9\" >253</td>\n",
       "      <td id=\"T_643d4_row8_col10\" class=\"data row8 col10\" >253</td>\n",
       "      <td id=\"T_643d4_row8_col11\" class=\"data row8 col11\" >187</td>\n",
       "      <td id=\"T_643d4_row8_col12\" class=\"data row8 col12\" >30</td>\n",
       "      <td id=\"T_643d4_row8_col13\" class=\"data row8 col13\" >0</td>\n",
       "      <td id=\"T_643d4_row8_col14\" class=\"data row8 col14\" >0</td>\n",
       "      <td id=\"T_643d4_row8_col15\" class=\"data row8 col15\" >0</td>\n",
       "      <td id=\"T_643d4_row8_col16\" class=\"data row8 col16\" >0</td>\n",
       "      <td id=\"T_643d4_row8_col17\" class=\"data row8 col17\" >0</td>\n",
       "      <td id=\"T_643d4_row8_col18\" class=\"data row8 col18\" >0</td>\n",
       "      <td id=\"T_643d4_row8_col19\" class=\"data row8 col19\" >0</td>\n",
       "      <td id=\"T_643d4_row8_col20\" class=\"data row8 col20\" >0</td>\n",
       "    </tr>\n",
       "    <tr>\n",
       "      <th id=\"T_643d4_level0_row9\" class=\"row_heading level0 row9\" >9</th>\n",
       "      <td id=\"T_643d4_row9_col0\" class=\"data row9 col0\" >0</td>\n",
       "      <td id=\"T_643d4_row9_col1\" class=\"data row9 col1\" >0</td>\n",
       "      <td id=\"T_643d4_row9_col2\" class=\"data row9 col2\" >0</td>\n",
       "      <td id=\"T_643d4_row9_col3\" class=\"data row9 col3\" >0</td>\n",
       "      <td id=\"T_643d4_row9_col4\" class=\"data row9 col4\" >0</td>\n",
       "      <td id=\"T_643d4_row9_col5\" class=\"data row9 col5\" >16</td>\n",
       "      <td id=\"T_643d4_row9_col6\" class=\"data row9 col6\" >248</td>\n",
       "      <td id=\"T_643d4_row9_col7\" class=\"data row9 col7\" >250</td>\n",
       "      <td id=\"T_643d4_row9_col8\" class=\"data row9 col8\" >253</td>\n",
       "      <td id=\"T_643d4_row9_col9\" class=\"data row9 col9\" >253</td>\n",
       "      <td id=\"T_643d4_row9_col10\" class=\"data row9 col10\" >253</td>\n",
       "      <td id=\"T_643d4_row9_col11\" class=\"data row9 col11\" >253</td>\n",
       "      <td id=\"T_643d4_row9_col12\" class=\"data row9 col12\" >232</td>\n",
       "      <td id=\"T_643d4_row9_col13\" class=\"data row9 col13\" >213</td>\n",
       "      <td id=\"T_643d4_row9_col14\" class=\"data row9 col14\" >111</td>\n",
       "      <td id=\"T_643d4_row9_col15\" class=\"data row9 col15\" >2</td>\n",
       "      <td id=\"T_643d4_row9_col16\" class=\"data row9 col16\" >0</td>\n",
       "      <td id=\"T_643d4_row9_col17\" class=\"data row9 col17\" >0</td>\n",
       "      <td id=\"T_643d4_row9_col18\" class=\"data row9 col18\" >0</td>\n",
       "      <td id=\"T_643d4_row9_col19\" class=\"data row9 col19\" >0</td>\n",
       "      <td id=\"T_643d4_row9_col20\" class=\"data row9 col20\" >0</td>\n",
       "    </tr>\n",
       "    <tr>\n",
       "      <th id=\"T_643d4_level0_row10\" class=\"row_heading level0 row10\" >10</th>\n",
       "      <td id=\"T_643d4_row10_col0\" class=\"data row10 col0\" >0</td>\n",
       "      <td id=\"T_643d4_row10_col1\" class=\"data row10 col1\" >0</td>\n",
       "      <td id=\"T_643d4_row10_col2\" class=\"data row10 col2\" >0</td>\n",
       "      <td id=\"T_643d4_row10_col3\" class=\"data row10 col3\" >0</td>\n",
       "      <td id=\"T_643d4_row10_col4\" class=\"data row10 col4\" >0</td>\n",
       "      <td id=\"T_643d4_row10_col5\" class=\"data row10 col5\" >0</td>\n",
       "      <td id=\"T_643d4_row10_col6\" class=\"data row10 col6\" >0</td>\n",
       "      <td id=\"T_643d4_row10_col7\" class=\"data row10 col7\" >43</td>\n",
       "      <td id=\"T_643d4_row10_col8\" class=\"data row10 col8\" >98</td>\n",
       "      <td id=\"T_643d4_row10_col9\" class=\"data row10 col9\" >98</td>\n",
       "      <td id=\"T_643d4_row10_col10\" class=\"data row10 col10\" >208</td>\n",
       "      <td id=\"T_643d4_row10_col11\" class=\"data row10 col11\" >253</td>\n",
       "      <td id=\"T_643d4_row10_col12\" class=\"data row10 col12\" >253</td>\n",
       "      <td id=\"T_643d4_row10_col13\" class=\"data row10 col13\" >253</td>\n",
       "      <td id=\"T_643d4_row10_col14\" class=\"data row10 col14\" >253</td>\n",
       "      <td id=\"T_643d4_row10_col15\" class=\"data row10 col15\" >187</td>\n",
       "      <td id=\"T_643d4_row10_col16\" class=\"data row10 col16\" >22</td>\n",
       "      <td id=\"T_643d4_row10_col17\" class=\"data row10 col17\" >0</td>\n",
       "      <td id=\"T_643d4_row10_col18\" class=\"data row10 col18\" >0</td>\n",
       "      <td id=\"T_643d4_row10_col19\" class=\"data row10 col19\" >0</td>\n",
       "      <td id=\"T_643d4_row10_col20\" class=\"data row10 col20\" >0</td>\n",
       "    </tr>\n",
       "  </tbody>\n",
       "</table>\n"
      ],
      "text/plain": [
       "<pandas.io.formats.style.Styler at 0x12e7b29f0>"
      ]
     },
     "execution_count": 9,
     "metadata": {},
     "output_type": "execute_result"
    }
   ],
   "source": [
    "tens = tensor(im3)\n",
    "df = pd.DataFrame(tens[4:15,4:25])\n",
    "df.style.set_properties(**{'font-size': '6pt'}).background_gradient('Greens')"
   ]
  },
  {
   "cell_type": "code",
   "execution_count": 10,
   "id": "73de2e6a-035b-4563-8837-972ab5f02474",
   "metadata": {},
   "outputs": [
    {
     "data": {
      "text/plain": [
       "(6131, 6265)"
      ]
     },
     "execution_count": 10,
     "metadata": {},
     "output_type": "execute_result"
    }
   ],
   "source": [
    "seven_tensors = [tensor(Image.open(s)) for s in sevens]\n",
    "three_tensors = [tensor(Image.open(t)) for t in threes]\n",
    "len(three_tensors), len(seven_tensors)"
   ]
  },
  {
   "cell_type": "code",
   "execution_count": 11,
   "id": "850db99a-778a-4d80-a7ce-a98423ed6e9b",
   "metadata": {},
   "outputs": [
    {
     "data": {
      "text/plain": [
       "<Axes: >"
      ]
     },
     "execution_count": 11,
     "metadata": {},
     "output_type": "execute_result"
    },
    {
     "data": {
      "image/png": "[encoded data removed]",
      "text/plain": [
       "<Figure size 100x100 with 1 Axes>"
      ]
     },
     "metadata": {},
     "output_type": "display_data"
    }
   ],
   "source": [
    "show_image(seven_tensors[2])"
   ]
  },
  {
   "cell_type": "code",
   "execution_count": 12,
   "id": "f82517db-74b1-4119-a7ca-ab0a494042ee",
   "metadata": {},
   "outputs": [
    {
     "data": {
      "text/plain": [
       "torch.Size([6131, 28, 28])"
      ]
     },
     "execution_count": 12,
     "metadata": {},
     "output_type": "execute_result"
    }
   ],
   "source": [
    "stacked_threes = torch.stack(three_tensors).float()/255\n",
    "stacked_sevens = torch.stack(seven_tensors).float()/255\n",
    "stacked_threes.shape"
   ]
  },
  {
   "cell_type": "code",
   "execution_count": 13,
   "id": "cff26833-4935-4c3b-a27c-725200eae5ea",
   "metadata": {},
   "outputs": [
    {
     "data": {
      "text/plain": [
       "3"
      ]
     },
     "execution_count": 13,
     "metadata": {},
     "output_type": "execute_result"
    }
   ],
   "source": [
    "len(stacked_threes.shape)"
   ]
  },
  {
   "cell_type": "code",
   "execution_count": 14,
   "id": "c2a815b0-fb66-4a26-bbb1-c69a0d7c08c2",
   "metadata": {},
   "outputs": [
    {
     "data": {
      "text/plain": [
       "3"
      ]
     },
     "execution_count": 14,
     "metadata": {},
     "output_type": "execute_result"
    }
   ],
   "source": [
    "stacked_threes.ndim"
   ]
  },
  {
   "cell_type": "code",
   "execution_count": 15,
   "id": "fb7adb0b-89e1-461f-960e-00dc42914c45",
   "metadata": {},
   "outputs": [
    {
     "data": {
      "text/plain": [
       "<Axes: >"
      ]
     },
     "execution_count": 15,
     "metadata": {},
     "output_type": "execute_result"
    },
    {
     "data": {
      "image/png": "[encoded data removed]",
      "text/plain": [
       "<Figure size 100x100 with 1 Axes>"
      ]
     },
     "metadata": {},
     "output_type": "display_data"
    }
   ],
   "source": [
    "mean3 = stacked_threes.mean(0)\n",
    "show_image(mean3)"
   ]
  },
  {
   "cell_type": "code",
   "execution_count": 16,
   "id": "1896ed21-7c43-488f-a52c-6c6cd7d2fcce",
   "metadata": {},
   "outputs": [],
   "source": [
    "# show_image(stacked_threes.mean(1), figsize=(2,1000))\n",
    "# show_image(stacked_sevens.mean(2), figsize=(2,1000))"
   ]
  },
  {
   "cell_type": "code",
   "execution_count": 17,
   "id": "e87089b6-c84d-4db0-95a2-8e17f28b5acc",
   "metadata": {},
   "outputs": [
    {
     "data": {
      "text/plain": [
       "<Axes: >"
      ]
     },
     "execution_count": 17,
     "metadata": {},
     "output_type": "execute_result"
    },
    {
     "data": {
      "image/png": "[encoded data removed]",
      "text/plain": [
       "<Figure size 100x100 with 1 Axes>"
      ]
     },
     "metadata": {},
     "output_type": "display_data"
    }
   ],
   "source": [
    "mean7 = stacked_sevens.mean(0)\n",
    "show_image(mean7)"
   ]
  },
  {
   "cell_type": "code",
   "execution_count": 18,
   "id": "38f0f4e9-3467-418b-b374-fcd3d4bbcd1b",
   "metadata": {},
   "outputs": [
    {
     "data": {
      "text/plain": [
       "<Axes: >"
      ]
     },
     "execution_count": 18,
     "metadata": {},
     "output_type": "execute_result"
    },
    {
     "data": {
      "image/png": "[encoded data removed]",
      "text/plain": [
       "<Figure size 100x100 with 1 Axes>"
      ]
     },
     "metadata": {},
     "output_type": "display_data"
    }
   ],
   "source": [
    "test_three = stacked_threes[10]\n",
    "show_image(test_three)"
   ]
  },
  {
   "cell_type": "code",
   "execution_count": 19,
   "id": "c7efa23a-7cd3-4bc0-8beb-19c16ba8e055",
   "metadata": {},
   "outputs": [],
   "source": [
    "def check_number_L1_norm(n: tensor):\n",
    "    d3 = (n-mean3).abs().mean()\n",
    "    d7 = (n-mean7).abs().mean()\n",
    "    if d3 < d7:\n",
    "        return f\"Could be a 3, with a distance of {d3} against {d7}\"\n",
    "    return f\"Could be a 7, with a distance of {d7} against {d3}\""
   ]
  },
  {
   "cell_type": "code",
   "execution_count": 20,
   "id": "0af54d80-b3a4-47fc-9ab5-171781174166",
   "metadata": {},
   "outputs": [
    {
     "data": {
      "text/plain": [
       "'Could be a 7, with a distance of 0.11215893179178238 against 0.12756186723709106'"
      ]
     },
     "execution_count": 20,
     "metadata": {},
     "output_type": "execute_result"
    }
   ],
   "source": [
    "check_number_L1_norm(stacked_sevens[100])"
   ]
  },
  {
   "cell_type": "code",
   "execution_count": 21,
   "id": "fcc6fc61-490c-4c43-abbd-b2b9780c29de",
   "metadata": {},
   "outputs": [
    {
     "data": {
      "text/plain": [
       "'Could be a 3, with a distance of 0.1150953397154808 against 0.12074663490056992'"
      ]
     },
     "execution_count": 21,
     "metadata": {},
     "output_type": "execute_result"
    }
   ],
   "source": [
    "check_number_L1_norm(stacked_threes[23])"
   ]
  },
  {
   "cell_type": "code",
   "execution_count": 22,
   "id": "334b4f73-eef8-4c0a-aac1-ca68e0023cb7",
   "metadata": {},
   "outputs": [
    {
     "data": {
      "text/plain": [
       "667"
      ]
     },
     "execution_count": 22,
     "metadata": {},
     "output_type": "execute_result"
    }
   ],
   "source": [
    "failed3 = 0\n",
    "for t in stacked_threes:\n",
    "    if check_number_L1_norm(t).startswith(\"Could be a 7\"):\n",
    "        failed3 = failed3 + 1\n",
    "failed3"
   ]
  },
  {
   "cell_type": "code",
   "execution_count": 23,
   "id": "f5d3175e-0ed3-4d0e-83eb-e5e0bb637e26",
   "metadata": {},
   "outputs": [
    {
     "data": {
      "text/plain": [
       "24"
      ]
     },
     "execution_count": 23,
     "metadata": {},
     "output_type": "execute_result"
    }
   ],
   "source": [
    "failed7 = 0\n",
    "for s in stacked_sevens:\n",
    "    if check_number_L1_norm(s).startswith(\"Could be a 3\"):\n",
    "        failed7 = failed7 + 1\n",
    "failed7"
   ]
  },
  {
   "cell_type": "code",
   "execution_count": 24,
   "id": "3eee214a-5625-4d0f-bd8a-490588b07244",
   "metadata": {},
   "outputs": [],
   "source": [
    "def check_number_L2_norm(n: tensor):\n",
    "    d3 = ((n - mean3)**2).mean().sqrt()\n",
    "    d7 = ((n - mean7)**2).mean().sqrt()\n",
    "    if d3 < d7:\n",
    "        return f\"Could be a 3, with a distance of {d3} against {d7}\"\n",
    "    return f\"Could be a 7, with a distance of {d7} against {d3}\""
   ]
  },
  {
   "cell_type": "code",
   "execution_count": 25,
   "id": "21cb4004-f703-40ad-8ee8-2cb3a1d7d2b7",
   "metadata": {},
   "outputs": [
    {
     "data": {
      "text/plain": [
       "283"
      ]
     },
     "execution_count": 25,
     "metadata": {},
     "output_type": "execute_result"
    }
   ],
   "source": [
    "failed3 = 0\n",
    "for t in stacked_threes:\n",
    "    if check_number_L2_norm(t).startswith(\"Could be a 7\"):\n",
    "        failed3 = failed3 + 1\n",
    "failed3"
   ]
  },
  {
   "cell_type": "code",
   "execution_count": 26,
   "id": "53d638db-f80e-4612-82ab-9fbd32c59652",
   "metadata": {},
   "outputs": [
    {
     "data": {
      "text/plain": [
       "106"
      ]
     },
     "execution_count": 26,
     "metadata": {},
     "output_type": "execute_result"
    }
   ],
   "source": [
    "failed7 = 0\n",
    "for s in stacked_sevens:\n",
    "    if check_number_L2_norm(s).startswith(\"Could be a 3\"):\n",
    "        failed7 = failed7 + 1\n",
    "failed7"
   ]
  },
  {
   "cell_type": "code",
   "execution_count": 27,
   "id": "b93067e3-4807-4385-9f2a-b21d3f920807",
   "metadata": {},
   "outputs": [
    {
     "data": {
      "text/plain": [
       "(tensor(0.1300), tensor(0.1680))"
      ]
     },
     "execution_count": 27,
     "metadata": {},
     "output_type": "execute_result"
    }
   ],
   "source": [
    "F.l1_loss(stacked_threes[4], mean3), F.l1_loss(stacked_threes[4], mean7)"
   ]
  },
  {
   "cell_type": "code",
   "execution_count": 28,
   "id": "6a6d96ed-3eb2-4b68-b4c7-0a8ac0f855fa",
   "metadata": {},
   "outputs": [
    {
     "data": {
      "text/plain": [
       "(tensor(0.0477), tensor(0.0904))"
      ]
     },
     "execution_count": 28,
     "metadata": {},
     "output_type": "execute_result"
    }
   ],
   "source": [
    "F.mse_loss(stacked_sevens[22], mean7), F.mse_loss(stacked_sevens[22], mean3)"
   ]
  },
  {
   "cell_type": "code",
   "execution_count": 29,
   "id": "6e96f773-bc8f-4bae-ade1-4a1afb07bf44",
   "metadata": {},
   "outputs": [
    {
     "data": {
      "text/plain": [
       "(torch.Size([1010, 28, 28]), torch.Size([1028, 28, 28]))"
      ]
     },
     "execution_count": 29,
     "metadata": {},
     "output_type": "execute_result"
    }
   ],
   "source": [
    "valid_3_tens = torch.stack([tensor(Image.open(o)) for o in (path/'valid'/'3').ls()])\n",
    "valid_7_tens = torch.stack([tensor(Image.open(o)) for o in (path/'valid'/'7').ls()])\n",
    "valid_3_tens = valid_3_tens.float()/255\n",
    "valid_7_tens = valid_7_tens.float()/255\n",
    "valid_3_tens.shape, valid_7_tens.shape"
   ]
  },
  {
   "cell_type": "code",
   "execution_count": 30,
   "id": "4f7cbf80-e08e-4a88-8142-fa547ccd99aa",
   "metadata": {},
   "outputs": [
    {
     "data": {
      "text/plain": [
       "(tensor(0.1286), tensor(0.1313))"
      ]
     },
     "execution_count": 30,
     "metadata": {},
     "output_type": "execute_result"
    }
   ],
   "source": [
    "def mnist_distance(a,b): return (a-b).abs().mean((-1,-2))\n",
    "mnist_distance(stacked_threes[12], mean3), mnist_distance(stacked_threes, mean3).mean()"
   ]
  },
  {
   "cell_type": "code",
   "execution_count": 31,
   "id": "ac477522-986c-416c-bcbd-ab761d64af42",
   "metadata": {},
   "outputs": [
    {
     "data": {
      "text/plain": [
       "(tensor([0.1634, 0.1145, 0.1363,  ..., 0.1105, 0.1111, 0.1640]),\n",
       " torch.Size([1010]))"
      ]
     },
     "execution_count": 31,
     "metadata": {},
     "output_type": "execute_result"
    }
   ],
   "source": [
    "valid_3_dist = mnist_distance(valid_3_tens, mean3)\n",
    "valid_3_dist, valid_3_dist.shape"
   ]
  },
  {
   "cell_type": "code",
   "execution_count": 32,
   "id": "e8805b06-6078-4e88-b3d8-40e5ad9c4636",
   "metadata": {},
   "outputs": [
    {
     "data": {
      "text/plain": [
       "torch.Size([6131, 28, 28])"
      ]
     },
     "execution_count": 32,
     "metadata": {},
     "output_type": "execute_result"
    }
   ],
   "source": [
    "(stacked_threes-mean3).shape"
   ]
  },
  {
   "cell_type": "code",
   "execution_count": 33,
   "id": "830ffa1d-41c0-48df-a161-09e3b67b9c3e",
   "metadata": {},
   "outputs": [
    {
     "data": {
      "text/plain": [
       "(torch.Size([3]), torch.Size([]))"
      ]
     },
     "execution_count": 33,
     "metadata": {},
     "output_type": "execute_result"
    }
   ],
   "source": [
    "tensor([1,2,3]).shape, tensor(1).shape"
   ]
  },
  {
   "cell_type": "code",
   "execution_count": 34,
   "id": "a1b7e4a4-b6fb-4bf8-b079-33a0b89610a4",
   "metadata": {},
   "outputs": [
    {
     "data": {
      "text/plain": [
       "tensor([[ 5,  6],\n",
       "        [ 7,  8],\n",
       "        [ 9, 10]])"
      ]
     },
     "execution_count": 34,
     "metadata": {},
     "output_type": "execute_result"
    }
   ],
   "source": [
    "(tensor([1,1]) + tensor([[4,5],[6,7],[8,9]]))"
   ]
  },
  {
   "cell_type": "code",
   "execution_count": 35,
   "id": "eb49ee66-e220-4155-88c8-6235dabf2536",
   "metadata": {},
   "outputs": [
    {
     "data": {
      "text/plain": [
       "tensor([[[  5, 105],\n",
       "         [  7, 107]],\n",
       "\n",
       "        [[  9, 109],\n",
       "         [  5, 105]],\n",
       "\n",
       "        [[  7, 107],\n",
       "         [  9, 109]],\n",
       "\n",
       "        [[  5, 105],\n",
       "         [  7, 107]],\n",
       "\n",
       "        [[  9, 109],\n",
       "         [  2, 102]]])"
      ]
     },
     "execution_count": 35,
     "metadata": {},
     "output_type": "execute_result"
    }
   ],
   "source": [
    "(tensor([1,100]) + tensor([[[4,5],[6,7]],[[8,9],[4,5]],[[6,7],[8,9]],[[4,5],[6,7]],[[8,9],[1,2]]]))"
   ]
  },
  {
   "cell_type": "code",
   "execution_count": 36,
   "id": "59443113-f5cb-4628-86c4-9aaf8f6bbb23",
   "metadata": {},
   "outputs": [],
   "source": [
    "def is_3(x): return mnist_distance(x,mean3) < mnist_distance(x,mean7)"
   ]
  },
  {
   "cell_type": "code",
   "execution_count": 37,
   "id": "8a170fdc-8fce-43d5-9ee5-948230e42ec3",
   "metadata": {},
   "outputs": [
    {
     "data": {
      "text/plain": [
       "tensor([False,  True])"
      ]
     },
     "execution_count": 37,
     "metadata": {},
     "output_type": "execute_result"
    }
   ],
   "source": [
    "tensor([1,1]) < tensor([0,5])"
   ]
  },
  {
   "cell_type": "code",
   "execution_count": 38,
   "id": "8a1ccc5a-8c1c-460a-b0a3-6e523108c342",
   "metadata": {},
   "outputs": [
    {
     "data": {
      "text/plain": [
       "(tensor(True), tensor(0.9168))"
      ]
     },
     "execution_count": 38,
     "metadata": {},
     "output_type": "execute_result"
    }
   ],
   "source": [
    "is_3(valid_3_tens[2]), is_3(valid_3_tens).float().mean()"
   ]
  },
  {
   "cell_type": "code",
   "execution_count": 39,
   "id": "6f397a41-5aaa-4543-a0e2-770bffa11257",
   "metadata": {},
   "outputs": [
    {
     "data": {
      "text/plain": [
       "(tensor(False), tensor(0.0146))"
      ]
     },
     "execution_count": 39,
     "metadata": {},
     "output_type": "execute_result"
    }
   ],
   "source": [
    "is_3(valid_7_tens[2]), is_3(valid_7_tens).float().mean()"
   ]
  },
  {
   "cell_type": "code",
   "execution_count": 40,
   "id": "b903d532-572e-4a85-97ed-b0a12011b5fa",
   "metadata": {},
   "outputs": [
    {
     "data": {
      "text/plain": [
       "(tensor(0.9168), tensor(0.9854), tensor(0.9511))"
      ]
     },
     "execution_count": 40,
     "metadata": {},
     "output_type": "execute_result"
    }
   ],
   "source": [
    "accuracy_3s = is_3(valid_3_tens).float().mean()\n",
    "accuracy_7s = (1-is_3(valid_7_tens).float()).mean()\n",
    "accuracy_3s, accuracy_7s, (accuracy_3s + accuracy_7s)/2"
   ]
  },
  {
   "cell_type": "code",
   "execution_count": 41,
   "id": "c15e2d63-a4b0-4b7e-9272-f2d4610a9c45",
   "metadata": {},
   "outputs": [],
   "source": [
    "train_x = torch.cat([stacked_threes, stacked_sevens]).view(-1, 28*28)"
   ]
  },
  {
   "cell_type": "code",
   "execution_count": 46,
   "id": "18592559-ede0-4fd1-8f26-a9f0a1af6c08",
   "metadata": {},
   "outputs": [
    {
     "data": {
      "text/plain": [
       "(torch.Size([12396, 784]), torch.Size([12396, 1]))"
      ]
     },
     "execution_count": 46,
     "metadata": {},
     "output_type": "execute_result"
    }
   ],
   "source": [
    "train_y = torch.tensor([1]*len(threes) + [0]*len(sevens)).unsqueeze(1)\n",
    "train_x.shape, train_y.shape"
   ]
  },
  {
   "cell_type": "code",
   "execution_count": 49,
   "id": "5a7ae101-85a6-497b-94d7-dc4bba98cc17",
   "metadata": {},
   "outputs": [
    {
     "data": {
      "text/plain": [
       "(torch.Size([784]), tensor([1]))"
      ]
     },
     "execution_count": 49,
     "metadata": {},
     "output_type": "execute_result"
    }
   ],
   "source": [
    "dset = list(zip(train_x, train_y))\n",
    "x,y = dset[0]\n",
    "x.shape, y"
   ]
  },
  {
   "cell_type": "code",
   "execution_count": 51,
   "id": "71e2d54e-70a6-4544-b505-4201df177e1e",
   "metadata": {},
   "outputs": [
    {
     "data": {
      "text/plain": [
       "(torch.Size([2038, 784]), torch.Size([2038, 1]))"
      ]
     },
     "execution_count": 51,
     "metadata": {},
     "output_type": "execute_result"
    }
   ],
   "source": [
    "valid_x = torch.cat([valid_3_tens, valid_7_tens]).view(-1, 28*28)\n",
    "valid_y = torch.tensor([1]*len(valid_3_tens) + [0] * len(valid_7_tens)).unsqueeze(1)\n",
    "valid_dset = list(zip(valid_x, valid_y))\n",
    "valid_x.shape, valid_y.shape"
   ]
  },
  {
   "cell_type": "code",
   "execution_count": 52,
   "id": "e0b94509-6896-4393-a7ac-74a5daa6c3bb",
   "metadata": {},
   "outputs": [],
   "source": [
    "def init_params(size, std=1.0): return (torch.randn(size)*std).requires_grad_()"
   ]
  },
  {
   "cell_type": "code",
   "execution_count": 112,
   "id": "be20e9f6-fe31-4de2-96cb-4d1dfa7f775e",
   "metadata": {},
   "outputs": [
    {
     "data": {
      "text/plain": [
       "torch.Size([784, 1])"
      ]
     },
     "execution_count": 112,
     "metadata": {},
     "output_type": "execute_result"
    }
   ],
   "source": [
    "weights = init_params((28*28, 1))\n",
    "weights.shape"
   ]
  },
  {
   "cell_type": "code",
   "execution_count": 113,
   "id": "a10c08ec-c132-4d25-9023-7d9fbfda240b",
   "metadata": {},
   "outputs": [
    {
     "data": {
      "text/plain": [
       "tensor([-1.8413], requires_grad=True)"
      ]
     },
     "execution_count": 113,
     "metadata": {},
     "output_type": "execute_result"
    }
   ],
   "source": [
    "bias = init_params(1)\n",
    "bias"
   ]
  },
  {
   "cell_type": "code",
   "execution_count": 91,
   "id": "d9054191-f7b6-421f-af24-d89bc3074b7b",
   "metadata": {},
   "outputs": [
    {
     "data": {
      "text/plain": [
       "(tensor([10.6080], grad_fn=<AddBackward0>),\n",
       " torch.Size([1, 784]),\n",
       " torch.Size([784]),\n",
       " torch.Size([1, 784]))"
      ]
     },
     "execution_count": 91,
     "metadata": {},
     "output_type": "execute_result"
    }
   ],
   "source": [
    "(train_x[0]*weights.T).sum() + bias, (train_x[0]*weights.T).shape, train_x[0].shape, weights.T.shape"
   ]
  },
  {
   "cell_type": "code",
   "execution_count": 66,
   "id": "242f45a4-9239-4a8a-bb75-25cb212b33b2",
   "metadata": {},
   "outputs": [
    {
     "data": {
      "text/plain": [
       "(torch.Size([784]),\n",
       " torch.Size([12396, 784]),\n",
       " torch.Size([784, 1]),\n",
       " torch.Size([1, 784]))"
      ]
     },
     "execution_count": 66,
     "metadata": {},
     "output_type": "execute_result"
    }
   ],
   "source": [
    "train_x[0].shape, train_x.shape, weights.shape, weights.T.shape"
   ]
  },
  {
   "cell_type": "code",
   "execution_count": 72,
   "id": "57d976d9-1a0a-4da4-948d-c078520a19a8",
   "metadata": {},
   "outputs": [
    {
     "data": {
      "text/plain": [
       "(torch.Size([1, 1]), torch.Size([784, 784]))"
      ]
     },
     "execution_count": 72,
     "metadata": {},
     "output_type": "execute_result"
    }
   ],
   "source": [
    "(weights.T@weights).shape, (weights@weights.T).shape"
   ]
  },
  {
   "cell_type": "code",
   "execution_count": 92,
   "id": "013670f2-b9ac-4375-88d0-9f3bb209ba73",
   "metadata": {},
   "outputs": [
    {
     "data": {
      "text/plain": [
       "(torch.Size([12396, 784]), torch.Size([784, 1]), torch.Size([12396, 1]))"
      ]
     },
     "execution_count": 92,
     "metadata": {},
     "output_type": "execute_result"
    }
   ],
   "source": [
    "train_x.shape, weights.shape, (train_x@weights).shape"
   ]
  },
  {
   "cell_type": "markdown",
   "id": "ffe882d0-83e9-4f95-813e-398a39507eef",
   "metadata": {},
   "source": [
    "### N.1 equation in neural networks\n",
    "batch@weights + bias"
   ]
  },
  {
   "cell_type": "code",
   "execution_count": 83,
   "id": "affa0e16-2d5f-46a7-8ac0-30eaa822b2b0",
   "metadata": {},
   "outputs": [],
   "source": [
    "def linear1(xb): return xb@weights + bias"
   ]
  },
  {
   "cell_type": "code",
   "execution_count": 114,
   "id": "cc5b97ff-6767-48f5-8b47-2227cbdbd846",
   "metadata": {},
   "outputs": [
    {
     "data": {
      "text/plain": [
       "tensor([[-17.0931],\n",
       "        [-18.8599],\n",
       "        [-15.0039],\n",
       "        ...,\n",
       "        [-17.7876],\n",
       "        [  1.2620],\n",
       "        [-18.5291]], grad_fn=<AddBackward0>)"
      ]
     },
     "execution_count": 114,
     "metadata": {},
     "output_type": "execute_result"
    }
   ],
   "source": [
    "preds = linear1(train_x)\n",
    "preds"
   ]
  },
  {
   "cell_type": "code",
   "execution_count": 93,
   "id": "1a2a1736-7ed5-4bc4-ae48-6ea77806d97b",
   "metadata": {},
   "outputs": [
    {
     "data": {
      "text/plain": [
       "tensor([[ True],\n",
       "        [ True],\n",
       "        [ True],\n",
       "        ...,\n",
       "        [ True],\n",
       "        [False],\n",
       "        [ True]])"
      ]
     },
     "execution_count": 93,
     "metadata": {},
     "output_type": "execute_result"
    }
   ],
   "source": [
    "corrects = (preds>0.0).float() == train_y\n",
    "corrects"
   ]
  },
  {
   "cell_type": "code",
   "execution_count": 96,
   "id": "2818a71d-49bb-4b19-be3c-9790002a60f0",
   "metadata": {},
   "outputs": [
    {
     "data": {
      "text/plain": [
       "0.6059212684631348"
      ]
     },
     "execution_count": 96,
     "metadata": {},
     "output_type": "execute_result"
    }
   ],
   "source": [
    "corrects.float().mean().item()"
   ]
  },
  {
   "cell_type": "code",
   "execution_count": 115,
   "id": "d968c0b1-4aad-4746-8a06-a1ccee2f8282",
   "metadata": {},
   "outputs": [
    {
     "data": {
      "text/plain": [
       "0.5062116980552673"
      ]
     },
     "execution_count": 115,
     "metadata": {},
     "output_type": "execute_result"
    }
   ],
   "source": [
    "with torch.no_grad(): weights[0] *= 1.0001\n",
    "preds = linear1(train_x)\n",
    "((preds>0.0).float() == train_y).float().mean().item()"
   ]
  },
  {
   "cell_type": "code",
   "execution_count": 133,
   "id": "bedf69c5-29d0-4cf7-b586-167b97b83d2b",
   "metadata": {},
   "outputs": [],
   "source": [
    "def mnist_loss(predictions,targets): \n",
    "    predictions = predictions.sigmoid()\n",
    "    return torch.where(targets == 1, 1 - predictions, predictions).mean()"
   ]
  },
  {
   "cell_type": "code",
   "execution_count": 132,
   "id": "02c2d5b5-67e4-40e7-bf9c-88d3c9efe26c",
   "metadata": {},
   "outputs": [
    {
     "data": {
      "image/png": "[encoded data removed]",
      "text/plain": [
       "<Figure size 600x400 with 1 Axes>"
      ]
     },
     "metadata": {},
     "output_type": "display_data"
    }
   ],
   "source": [
    "def plot_function(f, tx=None, ty=None, title=None, min=-2, max=2, figsize=(6,4)):\n",
    "    x = torch.linspace(torch.tensor(min),torch.tensor(max), 1000)\n",
    "    fig,ax = plt.subplots(figsize=figsize)\n",
    "    ax.plot(x,f(x))\n",
    "    if tx is not None: ax.set_xlabel(tx)\n",
    "    if ty is not None: ax.set_ylabel(ty)\n",
    "    if title is not None: ax.set_title(title)\n",
    "plot_function(torch.sigmoid, title='Sigmoid', min=-4, max=4)"
   ]
  },
  {
   "cell_type": "code",
   "execution_count": 134,
   "id": "c653766c-b049-4b8b-9336-2a8f88f50885",
   "metadata": {},
   "outputs": [
    {
     "data": {
      "text/plain": [
       "0.49337175488471985"
      ]
     },
     "execution_count": 134,
     "metadata": {},
     "output_type": "execute_result"
    }
   ],
   "source": [
    "mnist_loss(preds, train_y).item()"
   ]
  },
  {
   "cell_type": "code",
   "execution_count": 140,
   "id": "d4d2d62d-c2e2-4219-9802-509f19a8dcbc",
   "metadata": {},
   "outputs": [
    {
     "data": {
      "text/plain": [
       "0.49337369203567505"
      ]
     },
     "execution_count": 140,
     "metadata": {},
     "output_type": "execute_result"
    }
   ],
   "source": [
    "with torch.no_grad(): weights[209] *= 100.0001\n",
    "preds = linear1(train_x)\n",
    "mnist_loss(preds, train_y).item()"
   ]
  },
  {
   "cell_type": "code",
   "execution_count": 143,
   "id": "652a203e-5da1-4b02-bea9-7354d968381f",
   "metadata": {},
   "outputs": [
    {
     "data": {
      "text/plain": [
       "[tensor([ 2, 12,  1,  0, 11]),\n",
       " tensor([ 8, 13,  3,  6, 10]),\n",
       " tensor([ 7,  4, 14,  5,  9])]"
      ]
     },
     "execution_count": 143,
     "metadata": {},
     "output_type": "execute_result"
    }
   ],
   "source": [
    "coll = range(15)\n",
    "dl = DataLoader(coll, batch_size=5, shuffle=True)\n",
    "list(dl)"
   ]
  },
  {
   "cell_type": "code",
   "execution_count": 148,
   "id": "7183d48f-3e5d-4cdf-832d-f394e369f387",
   "metadata": {},
   "outputs": [
    {
     "data": {
      "text/plain": [
       "(#26) [(0, 'a'),(1, 'b'),(2, 'c'),(3, 'd'),(4, 'e'),(5, 'f'),(6, 'g'),(7, 'h'),(8, 'i'),(9, 'j'),(10, 'k'),(11, 'l'),(12, 'm'),(13, 'n'),(14, 'o'),(15, 'p'),(16, 'q'),(17, 'r'),(18, 's'),(19, 't')...]"
      ]
     },
     "execution_count": 148,
     "metadata": {},
     "output_type": "execute_result"
    }
   ],
   "source": [
    "ds = L(enumerate(string.ascii_lowercase))\n",
    "ds"
   ]
  },
  {
   "cell_type": "code",
   "execution_count": 151,
   "id": "a882b0af-abef-4e66-bdba-8707ba45eeb7",
   "metadata": {},
   "outputs": [
    {
     "data": {
      "text/plain": [
       "[(tensor([19,  0, 14,  7, 10, 23]), ('t', 'a', 'o', 'h', 'k', 'x')),\n",
       " (tensor([20, 21,  1,  5, 22, 24]), ('u', 'v', 'b', 'f', 'w', 'y')),\n",
       " (tensor([ 6,  4, 25,  3, 12, 18]), ('g', 'e', 'z', 'd', 'm', 's')),\n",
       " (tensor([13,  9, 16,  2, 15, 17]), ('n', 'j', 'q', 'c', 'p', 'r')),\n",
       " (tensor([ 8, 11]), ('i', 'l'))]"
      ]
     },
     "execution_count": 151,
     "metadata": {},
     "output_type": "execute_result"
    }
   ],
   "source": [
    "dl = DataLoader(ds, batch_size=6, shuffle=True)\n",
    "list(dl)"
   ]
  },
  {
   "cell_type": "code",
   "execution_count": 184,
   "id": "552b2e73-5457-45c2-ab5e-07bf030588f3",
   "metadata": {},
   "outputs": [],
   "source": [
    "weights = init_params((28*28,1))\n",
    "bias = init_params(1)"
   ]
  },
  {
   "cell_type": "code",
   "execution_count": 185,
   "id": "2542d0f6-daea-4bc5-9360-3562319372b0",
   "metadata": {},
   "outputs": [
    {
     "data": {
      "text/plain": [
       "(torch.Size([256, 784]), torch.Size([256, 1]))"
      ]
     },
     "execution_count": 185,
     "metadata": {},
     "output_type": "execute_result"
    }
   ],
   "source": [
    "dl = DataLoader(dset, batch_size=256)\n",
    "xb, yb = first(dl)\n",
    "xb.shape, yb.shape"
   ]
  },
  {
   "cell_type": "code",
   "execution_count": 186,
   "id": "9e9f7499-becf-4523-9dee-c78c2a3cb0a2",
   "metadata": {},
   "outputs": [],
   "source": [
    "valid_dl = DataLoader(valid_dset, batch_size=256)"
   ]
  },
  {
   "cell_type": "code",
   "execution_count": 155,
   "id": "a4ae5d7e-1703-4c4f-8590-36dc1aebb9de",
   "metadata": {},
   "outputs": [
    {
     "data": {
      "text/plain": [
       "torch.Size([4, 784])"
      ]
     },
     "execution_count": 155,
     "metadata": {},
     "output_type": "execute_result"
    }
   ],
   "source": [
    "batch = train_x[:4]\n",
    "batch.shape"
   ]
  },
  {
   "cell_type": "code",
   "execution_count": 156,
   "id": "95ab6084-3490-4bca-86ed-8f42e5b5c3ef",
   "metadata": {},
   "outputs": [
    {
     "data": {
      "text/plain": [
       "tensor([[ -7.9278],\n",
       "        [-14.6350],\n",
       "        [  1.6133],\n",
       "        [ -5.6718]], grad_fn=<AddBackward0>)"
      ]
     },
     "execution_count": 156,
     "metadata": {},
     "output_type": "execute_result"
    }
   ],
   "source": [
    "preds = linear1(batch)\n",
    "preds"
   ]
  },
  {
   "cell_type": "code",
   "execution_count": 157,
   "id": "2d004efb-a0c7-4ac5-b9dd-6e2e74f8497d",
   "metadata": {},
   "outputs": [
    {
     "data": {
      "text/plain": [
       "tensor(0.7906, grad_fn=<MeanBackward0>)"
      ]
     },
     "execution_count": 157,
     "metadata": {},
     "output_type": "execute_result"
    }
   ],
   "source": [
    "loss = mnist_loss(preds, train_y[:4])\n",
    "loss"
   ]
  },
  {
   "cell_type": "code",
   "execution_count": 158,
   "id": "67846b7d-1223-4dc3-a04a-e53d49b0fcb0",
   "metadata": {},
   "outputs": [
    {
     "data": {
      "text/plain": [
       "(torch.Size([784, 1]), tensor(-0.0051), tensor([-0.0356]))"
      ]
     },
     "execution_count": 158,
     "metadata": {},
     "output_type": "execute_result"
    }
   ],
   "source": [
    "loss.backward()\n",
    "weights.grad.shape, weights.grad.mean(), bias.grad"
   ]
  },
  {
   "cell_type": "code",
   "execution_count": 187,
   "id": "6a8efb69-3904-4c42-b96b-a60ba9ef3dc1",
   "metadata": {},
   "outputs": [],
   "source": [
    "def calc_grad(xb, yb, model):\n",
    "    preds = model(xb)\n",
    "    loss = mnist_loss(preds, yb)\n",
    "    loss.backward()"
   ]
  },
  {
   "cell_type": "code",
   "execution_count": 162,
   "id": "192a78ec-b8d1-4805-8933-1c0bf1b29897",
   "metadata": {},
   "outputs": [
    {
     "data": {
      "text/plain": [
       "(tensor(-0.0103), tensor([-0.0712]))"
      ]
     },
     "execution_count": 162,
     "metadata": {},
     "output_type": "execute_result"
    }
   ],
   "source": [
    "calc_grad(batch, train_y[:4], linear1)\n",
    "weights.grad.mean(), bias.grad"
   ]
  },
  {
   "cell_type": "code",
   "execution_count": 165,
   "id": "5cc2c0e2-f3a5-4ac3-82f4-da47846d4bac",
   "metadata": {},
   "outputs": [
    {
     "data": {
      "text/plain": [
       "tensor([0.])"
      ]
     },
     "execution_count": 165,
     "metadata": {},
     "output_type": "execute_result"
    }
   ],
   "source": [
    "weights.grad.zero_()\n",
    "bias.grad.zero_()"
   ]
  },
  {
   "cell_type": "code",
   "execution_count": 188,
   "id": "2065e668-f0b1-495a-a156-2d1f2842bae3",
   "metadata": {},
   "outputs": [],
   "source": [
    "def train_epoch(model, lr, params):\n",
    "    for xb, yb in dl:\n",
    "        calc_grad(xb, yb, model)\n",
    "        for p in params:\n",
    "            p.data -= p.grad * lr\n",
    "            p.grad.zero_()"
   ]
  },
  {
   "cell_type": "code",
   "execution_count": 167,
   "id": "1c17d47d-307a-4a64-99a7-21c0ed816eea",
   "metadata": {},
   "outputs": [
    {
     "data": {
      "text/plain": [
       "tensor([[False],\n",
       "        [False],\n",
       "        [ True],\n",
       "        [False]])"
      ]
     },
     "execution_count": 167,
     "metadata": {},
     "output_type": "execute_result"
    }
   ],
   "source": [
    "(preds>0.0).float() == train_y[:4]"
   ]
  },
  {
   "cell_type": "code",
   "execution_count": 189,
   "id": "63d06f1d-6c9c-4fb8-a405-1304248750d6",
   "metadata": {},
   "outputs": [],
   "source": [
    "def batch_accuracy(xb, yb):\n",
    "    preds = xb.sigmoid()\n",
    "    correct = (xb>0.5).float() == yb\n",
    "    return correct.float().mean()"
   ]
  },
  {
   "cell_type": "code",
   "execution_count": 169,
   "id": "7754be8e-ed2e-4369-b10c-1b9c7c786a83",
   "metadata": {},
   "outputs": [
    {
     "data": {
      "text/plain": [
       "tensor(0.1521)"
      ]
     },
     "execution_count": 169,
     "metadata": {},
     "output_type": "execute_result"
    }
   ],
   "source": [
    "batch_accuracy(batch, train_y[:4])"
   ]
  },
  {
   "cell_type": "code",
   "execution_count": 190,
   "id": "f9b499fa-7c39-4231-afbe-00284e4548e8",
   "metadata": {},
   "outputs": [],
   "source": [
    "def validate_epoch(model):\n",
    "    accs = [batch_accuracy(model(xb),yb) for xb, yb in valid_dl]\n",
    "    return round(torch.stack(accs).mean().item(), 4)"
   ]
  },
  {
   "cell_type": "code",
   "execution_count": 171,
   "id": "aef43f22-7c08-4dc6-a749-f7e345479605",
   "metadata": {},
   "outputs": [
    {
     "data": {
      "text/plain": [
       "0.542"
      ]
     },
     "execution_count": 171,
     "metadata": {},
     "output_type": "execute_result"
    }
   ],
   "source": [
    "validate_epoch(linear1)"
   ]
  },
  {
   "cell_type": "code",
   "execution_count": 191,
   "id": "666030ed-6ac5-49ff-ac81-1cf99a956259",
   "metadata": {},
   "outputs": [
    {
     "data": {
      "text/plain": [
       "0.7842"
      ]
     },
     "execution_count": 191,
     "metadata": {},
     "output_type": "execute_result"
    }
   ],
   "source": [
    "lr = 1.\n",
    "params = weights, bias\n",
    "train_epoch(linear1, lr, params)\n",
    "validate_epoch(linear1)"
   ]
  },
  {
   "cell_type": "code",
   "execution_count": 192,
   "id": "4074f4ca-5f57-4096-aba0-5288def84d82",
   "metadata": {},
   "outputs": [
    {
     "name": "stdout",
     "output_type": "stream",
     "text": [
      "0.8794 0.9189 0.9385 0.9472 0.9502 0.9511 0.9536 0.956 0.9579 0.9594 0.9603 0.9638 0.9667 0.9672 0.9672 0.9682 0.9682 0.9682 0.9682 0.9687 "
     ]
    }
   ],
   "source": [
    "for i in range(20):\n",
    "    train_epoch(linear1, lr, params)\n",
    "    print(validate_epoch(linear1), end=\" \")"
   ]
  },
  {
   "cell_type": "code",
   "execution_count": 193,
   "id": "99681f09-05be-448d-95ad-73094618a6b7",
   "metadata": {},
   "outputs": [
    {
     "data": {
      "text/plain": [
       "(torch.Size([1, 784]), torch.Size([1]))"
      ]
     },
     "execution_count": 193,
     "metadata": {},
     "output_type": "execute_result"
    }
   ],
   "source": [
    "linear_model = nn.Linear(28*28, 1)\n",
    "w, b = linear_model.parameters()\n",
    "w.shape, b.shape"
   ]
  },
  {
   "cell_type": "code",
   "execution_count": 194,
   "id": "ba94c1f1-b492-468a-afeb-d44b36df7981",
   "metadata": {},
   "outputs": [],
   "source": [
    "class BasicOptim:\n",
    "    def __init__(self, params, lr):\n",
    "        self.params = list(params)\n",
    "        self.lr = lr\n",
    "    def step(self, *args, **kwargs):\n",
    "        for p in self.params:\n",
    "            p.data -= p.grad.data * self.lr\n",
    "    def zero_grad(self, *args, **kwargs):\n",
    "        for p in self.params:\n",
    "            p.grad = None"
   ]
  },
  {
   "cell_type": "code",
   "execution_count": 195,
   "id": "6fe1c77f-b78c-4900-8904-6326978721c8",
   "metadata": {},
   "outputs": [],
   "source": [
    "opt = BasicOptim(linear_model.parameters(), lr)"
   ]
  },
  {
   "cell_type": "code",
   "execution_count": 196,
   "id": "3ba00860-549d-4746-8b9f-cf0f922d7681",
   "metadata": {},
   "outputs": [],
   "source": [
    "def train_epoch(model):\n",
    "    for xb, yb in dset:\n",
    "        calc_grad(xb, yb, model)\n",
    "        opt.step()\n",
    "        opt.zero_grad()"
   ]
  },
  {
   "cell_type": "code",
   "execution_count": 197,
   "id": "26652074-79af-426b-afef-4085e19e39f5",
   "metadata": {},
   "outputs": [
    {
     "data": {
      "text/plain": [
       "0.5068"
      ]
     },
     "execution_count": 197,
     "metadata": {},
     "output_type": "execute_result"
    }
   ],
   "source": [
    "validate_epoch(linear_model)"
   ]
  },
  {
   "cell_type": "code",
   "execution_count": 198,
   "id": "636a06d5-42ef-4a09-bf12-75fc59aca442",
   "metadata": {},
   "outputs": [],
   "source": [
    "def train_model(model, epochs):\n",
    "    for i in range(epochs):\n",
    "        train_epoch(model)\n",
    "        print(validate_epoch(linear_model), end=\" \")"
   ]
  },
  {
   "cell_type": "code",
   "execution_count": 199,
   "id": "3630bd67-b798-488b-8b0e-cf12c4143af0",
   "metadata": {},
   "outputs": [
    {
     "name": "stdout",
     "output_type": "stream",
     "text": [
      "0.5068 0.5669 0.6938 0.6567 0.7144 0.7973 0.7969 0.7119 0.8037 0.8081 0.8398 0.8613 0.8305 0.8423 0.8735 0.8598 0.8481 0.8984 0.8789 0.8921 "
     ]
    }
   ],
   "source": [
    "train_model(linear_model, 20)"
   ]
  },
  {
   "cell_type": "code",
   "execution_count": 200,
   "id": "bcb1f9c0-e859-44f4-b538-ba62d423db47",
   "metadata": {},
   "outputs": [
    {
     "name": "stdout",
     "output_type": "stream",
     "text": [
      "0.5068 0.5078 0.5552 0.7002 0.6274 0.6831 0.7705 0.7378 0.8301 0.8515 0.8232 0.8222 0.8667 0.8735 0.8481 0.8877 0.855 0.9106 0.9004 0.8906 "
     ]
    }
   ],
   "source": [
    "linear_model = nn.Linear(28*28, 1)\n",
    "opt = SGD(linear_model.parameters(), lr)\n",
    "train_model(linear_model, 20)"
   ]
  },
  {
   "cell_type": "code",
   "execution_count": 201,
   "id": "db3878ff-052a-4e6b-869e-e36ccf16191a",
   "metadata": {},
   "outputs": [],
   "source": [
    "dls = DataLoaders(dl, valid_dl)"
   ]
  },
  {
   "cell_type": "code",
   "execution_count": 205,
   "id": "c93921cb-1fa8-4a77-9650-05ef2cf36e5c",
   "metadata": {},
   "outputs": [],
   "source": [
    "learn = Learner(dls, nn.Linear(28*28,1), opt_func=SGD, loss_func=mnist_loss, metrics=batch_accuracy)"
   ]
  },
  {
   "cell_type": "code",
   "execution_count": 206,
   "id": "4660127b-f324-4d5f-871b-984872f09efd",
   "metadata": {},
   "outputs": [
    {
     "data": {
      "text/html": [
       "\n",
       "<style>\n",
       "    /* Turns off some styling */\n",
       "    progress {\n",
       "        /* gets rid of default border in Firefox and Opera. */\n",
       "        border: none;\n",
       "        /* Needs to be in here for Safari polyfill so background images work as expected. */\n",
       "        background-size: auto;\n",
       "    }\n",
       "    progress:not([value]), progress:not([value])::-webkit-progress-bar {\n",
       "        background: repeating-linear-gradient(45deg, #7e7e7e, #7e7e7e 10px, #5c5c5c 10px, #5c5c5c 20px);\n",
       "    }\n",
       "    .progress-bar-interrupted, .progress-bar-interrupted::-webkit-progress-bar {\n",
       "        background: #F44336;\n",
       "    }\n",
       "</style>\n"
      ],
      "text/plain": [
       "<IPython.core.display.HTML object>"
      ]
     },
     "metadata": {},
     "output_type": "display_data"
    },
    {
     "data": {
      "text/html": [
       "<table border=\"1\" class=\"dataframe\">\n",
       "  <thead>\n",
       "    <tr style=\"text-align: left;\">\n",
       "      <th>epoch</th>\n",
       "      <th>train_loss</th>\n",
       "      <th>valid_loss</th>\n",
       "      <th>batch_accuracy</th>\n",
       "      <th>time</th>\n",
       "    </tr>\n",
       "  </thead>\n",
       "  <tbody>\n",
       "    <tr>\n",
       "      <td>0</td>\n",
       "      <td>0.636626</td>\n",
       "      <td>0.503576</td>\n",
       "      <td>0.495584</td>\n",
       "      <td>00:00</td>\n",
       "    </tr>\n",
       "    <tr>\n",
       "      <td>1</td>\n",
       "      <td>0.557552</td>\n",
       "      <td>0.148930</td>\n",
       "      <td>0.856722</td>\n",
       "      <td>00:00</td>\n",
       "    </tr>\n",
       "    <tr>\n",
       "      <td>2</td>\n",
       "      <td>0.203258</td>\n",
       "      <td>0.202279</td>\n",
       "      <td>0.782630</td>\n",
       "      <td>00:00</td>\n",
       "    </tr>\n",
       "    <tr>\n",
       "      <td>3</td>\n",
       "      <td>0.088554</td>\n",
       "      <td>0.112290</td>\n",
       "      <td>0.884691</td>\n",
       "      <td>00:00</td>\n",
       "    </tr>\n",
       "    <tr>\n",
       "      <td>4</td>\n",
       "      <td>0.046198</td>\n",
       "      <td>0.080566</td>\n",
       "      <td>0.920510</td>\n",
       "      <td>00:00</td>\n",
       "    </tr>\n",
       "    <tr>\n",
       "      <td>5</td>\n",
       "      <td>0.029653</td>\n",
       "      <td>0.063965</td>\n",
       "      <td>0.935721</td>\n",
       "      <td>00:00</td>\n",
       "    </tr>\n",
       "    <tr>\n",
       "      <td>6</td>\n",
       "      <td>0.022863</td>\n",
       "      <td>0.053722</td>\n",
       "      <td>0.949460</td>\n",
       "      <td>00:00</td>\n",
       "    </tr>\n",
       "    <tr>\n",
       "      <td>7</td>\n",
       "      <td>0.019867</td>\n",
       "      <td>0.046952</td>\n",
       "      <td>0.954367</td>\n",
       "      <td>00:00</td>\n",
       "    </tr>\n",
       "    <tr>\n",
       "      <td>8</td>\n",
       "      <td>0.018368</td>\n",
       "      <td>0.042233</td>\n",
       "      <td>0.959274</td>\n",
       "      <td>00:00</td>\n",
       "    </tr>\n",
       "    <tr>\n",
       "      <td>9</td>\n",
       "      <td>0.017481</td>\n",
       "      <td>0.038785</td>\n",
       "      <td>0.964181</td>\n",
       "      <td>00:00</td>\n",
       "    </tr>\n",
       "    <tr>\n",
       "      <td>10</td>\n",
       "      <td>0.016864</td>\n",
       "      <td>0.036157</td>\n",
       "      <td>0.966143</td>\n",
       "      <td>00:00</td>\n",
       "    </tr>\n",
       "    <tr>\n",
       "      <td>11</td>\n",
       "      <td>0.016383</td>\n",
       "      <td>0.034078</td>\n",
       "      <td>0.968106</td>\n",
       "      <td>00:00</td>\n",
       "    </tr>\n",
       "    <tr>\n",
       "      <td>12</td>\n",
       "      <td>0.015983</td>\n",
       "      <td>0.032385</td>\n",
       "      <td>0.969087</td>\n",
       "      <td>00:00</td>\n",
       "    </tr>\n",
       "    <tr>\n",
       "      <td>13</td>\n",
       "      <td>0.015643</td>\n",
       "      <td>0.030973</td>\n",
       "      <td>0.970559</td>\n",
       "      <td>00:00</td>\n",
       "    </tr>\n",
       "    <tr>\n",
       "      <td>14</td>\n",
       "      <td>0.015351</td>\n",
       "      <td>0.029777</td>\n",
       "      <td>0.973503</td>\n",
       "      <td>00:00</td>\n",
       "    </tr>\n",
       "    <tr>\n",
       "      <td>15</td>\n",
       "      <td>0.015099</td>\n",
       "      <td>0.028754</td>\n",
       "      <td>0.973503</td>\n",
       "      <td>00:00</td>\n",
       "    </tr>\n",
       "    <tr>\n",
       "      <td>16</td>\n",
       "      <td>0.014879</td>\n",
       "      <td>0.027871</td>\n",
       "      <td>0.974485</td>\n",
       "      <td>00:00</td>\n",
       "    </tr>\n",
       "    <tr>\n",
       "      <td>17</td>\n",
       "      <td>0.014685</td>\n",
       "      <td>0.027102</td>\n",
       "      <td>0.975957</td>\n",
       "      <td>00:00</td>\n",
       "    </tr>\n",
       "    <tr>\n",
       "      <td>18</td>\n",
       "      <td>0.014512</td>\n",
       "      <td>0.026429</td>\n",
       "      <td>0.976938</td>\n",
       "      <td>00:00</td>\n",
       "    </tr>\n",
       "    <tr>\n",
       "      <td>19</td>\n",
       "      <td>0.014355</td>\n",
       "      <td>0.025834</td>\n",
       "      <td>0.976938</td>\n",
       "      <td>00:00</td>\n",
       "    </tr>\n",
       "  </tbody>\n",
       "</table>"
      ],
      "text/plain": [
       "<IPython.core.display.HTML object>"
      ]
     },
     "metadata": {},
     "output_type": "display_data"
    }
   ],
   "source": [
    "learn.fit(20, lr=lr)"
   ]
  },
  {
   "cell_type": "markdown",
   "id": "1892c3a9-e4ea-4ea1-ac98-d82540bbb675",
   "metadata": {},
   "source": [
    "## Build a neural network\n",
    "### Add some non linearity between 2 linear layers"
   ]
  },
  {
   "cell_type": "code",
   "execution_count": 207,
   "id": "4501f379-c6ee-4b2a-802c-977efbc77acf",
   "metadata": {},
   "outputs": [
    {
     "data": {
      "image/png": "[encoded data removed]",
      "text/plain": [
       "<Figure size 600x400 with 1 Axes>"
      ]
     },
     "metadata": {},
     "output_type": "display_data"
    }
   ],
   "source": [
    "plot_function(F.relu)"
   ]
  },
  {
   "cell_type": "code",
   "execution_count": 208,
   "id": "1fc162c0-fb6e-4371-b8aa-e5a9246ac4d3",
   "metadata": {},
   "outputs": [],
   "source": [
    "simple_net = nn.Sequential(\n",
    "    nn.Linear(28*28,30),\n",
    "    nn.ReLU(),\n",
    "    nn.Linear(30,1)\n",
    ")"
   ]
  },
  {
   "cell_type": "code",
   "execution_count": 211,
   "id": "67d1350d-d3cb-465f-8cbf-737cc18d8504",
   "metadata": {},
   "outputs": [
    {
     "name": "stdout",
     "output_type": "stream",
     "text": [
      "torch.Size([30, 784])\n",
      "torch.Size([30])\n",
      "torch.Size([1, 30])\n",
      "torch.Size([1])\n"
     ]
    }
   ],
   "source": [
    "for p in simple_net.parameters(): print(p.shape)"
   ]
  },
  {
   "cell_type": "code",
   "execution_count": 212,
   "id": "0b950385-0c16-4390-ac50-2d849399206b",
   "metadata": {},
   "outputs": [],
   "source": [
    "learn = Learner(dls, simple_net, opt_func=SGD, loss_func=mnist_loss, metrics=batch_accuracy)"
   ]
  },
  {
   "cell_type": "code",
   "execution_count": 213,
   "id": "e143ef55-4a18-49cb-ae02-3d8fb703873b",
   "metadata": {},
   "outputs": [
    {
     "data": {
      "text/html": [
       "\n",
       "<style>\n",
       "    /* Turns off some styling */\n",
       "    progress {\n",
       "        /* gets rid of default border in Firefox and Opera. */\n",
       "        border: none;\n",
       "        /* Needs to be in here for Safari polyfill so background images work as expected. */\n",
       "        background-size: auto;\n",
       "    }\n",
       "    progress:not([value]), progress:not([value])::-webkit-progress-bar {\n",
       "        background: repeating-linear-gradient(45deg, #7e7e7e, #7e7e7e 10px, #5c5c5c 10px, #5c5c5c 20px);\n",
       "    }\n",
       "    .progress-bar-interrupted, .progress-bar-interrupted::-webkit-progress-bar {\n",
       "        background: #F44336;\n",
       "    }\n",
       "</style>\n"
      ],
      "text/plain": [
       "<IPython.core.display.HTML object>"
      ]
     },
     "metadata": {},
     "output_type": "display_data"
    },
    {
     "data": {
      "text/html": [
       "<table border=\"1\" class=\"dataframe\">\n",
       "  <thead>\n",
       "    <tr style=\"text-align: left;\">\n",
       "      <th>epoch</th>\n",
       "      <th>train_loss</th>\n",
       "      <th>valid_loss</th>\n",
       "      <th>batch_accuracy</th>\n",
       "      <th>time</th>\n",
       "    </tr>\n",
       "  </thead>\n",
       "  <tbody>\n",
       "    <tr>\n",
       "      <td>0</td>\n",
       "      <td>0.357018</td>\n",
       "      <td>0.380071</td>\n",
       "      <td>0.504416</td>\n",
       "      <td>00:00</td>\n",
       "    </tr>\n",
       "    <tr>\n",
       "      <td>1</td>\n",
       "      <td>0.163586</td>\n",
       "      <td>0.246152</td>\n",
       "      <td>0.725711</td>\n",
       "      <td>00:00</td>\n",
       "    </tr>\n",
       "    <tr>\n",
       "      <td>2</td>\n",
       "      <td>0.088586</td>\n",
       "      <td>0.119944</td>\n",
       "      <td>0.890579</td>\n",
       "      <td>00:00</td>\n",
       "    </tr>\n",
       "    <tr>\n",
       "      <td>3</td>\n",
       "      <td>0.056606</td>\n",
       "      <td>0.079299</td>\n",
       "      <td>0.928852</td>\n",
       "      <td>00:00</td>\n",
       "    </tr>\n",
       "    <tr>\n",
       "      <td>4</td>\n",
       "      <td>0.041934</td>\n",
       "      <td>0.061350</td>\n",
       "      <td>0.947007</td>\n",
       "      <td>00:00</td>\n",
       "    </tr>\n",
       "    <tr>\n",
       "      <td>5</td>\n",
       "      <td>0.034575</td>\n",
       "      <td>0.051462</td>\n",
       "      <td>0.959274</td>\n",
       "      <td>00:00</td>\n",
       "    </tr>\n",
       "    <tr>\n",
       "      <td>6</td>\n",
       "      <td>0.030449</td>\n",
       "      <td>0.045294</td>\n",
       "      <td>0.963199</td>\n",
       "      <td>00:00</td>\n",
       "    </tr>\n",
       "    <tr>\n",
       "      <td>7</td>\n",
       "      <td>0.027834</td>\n",
       "      <td>0.041110</td>\n",
       "      <td>0.965162</td>\n",
       "      <td>00:00</td>\n",
       "    </tr>\n",
       "    <tr>\n",
       "      <td>8</td>\n",
       "      <td>0.025987</td>\n",
       "      <td>0.038075</td>\n",
       "      <td>0.967615</td>\n",
       "      <td>00:00</td>\n",
       "    </tr>\n",
       "    <tr>\n",
       "      <td>9</td>\n",
       "      <td>0.024573</td>\n",
       "      <td>0.035771</td>\n",
       "      <td>0.968597</td>\n",
       "      <td>00:00</td>\n",
       "    </tr>\n",
       "    <tr>\n",
       "      <td>10</td>\n",
       "      <td>0.023433</td>\n",
       "      <td>0.033955</td>\n",
       "      <td>0.969087</td>\n",
       "      <td>00:00</td>\n",
       "    </tr>\n",
       "    <tr>\n",
       "      <td>11</td>\n",
       "      <td>0.022488</td>\n",
       "      <td>0.032473</td>\n",
       "      <td>0.971541</td>\n",
       "      <td>00:00</td>\n",
       "    </tr>\n",
       "    <tr>\n",
       "      <td>12</td>\n",
       "      <td>0.021684</td>\n",
       "      <td>0.031235</td>\n",
       "      <td>0.973013</td>\n",
       "      <td>00:00</td>\n",
       "    </tr>\n",
       "    <tr>\n",
       "      <td>13</td>\n",
       "      <td>0.020990</td>\n",
       "      <td>0.030176</td>\n",
       "      <td>0.973013</td>\n",
       "      <td>00:00</td>\n",
       "    </tr>\n",
       "    <tr>\n",
       "      <td>14</td>\n",
       "      <td>0.020384</td>\n",
       "      <td>0.029253</td>\n",
       "      <td>0.973013</td>\n",
       "      <td>00:00</td>\n",
       "    </tr>\n",
       "    <tr>\n",
       "      <td>15</td>\n",
       "      <td>0.019847</td>\n",
       "      <td>0.028439</td>\n",
       "      <td>0.973994</td>\n",
       "      <td>00:00</td>\n",
       "    </tr>\n",
       "    <tr>\n",
       "      <td>16</td>\n",
       "      <td>0.019368</td>\n",
       "      <td>0.027713</td>\n",
       "      <td>0.974485</td>\n",
       "      <td>00:00</td>\n",
       "    </tr>\n",
       "    <tr>\n",
       "      <td>17</td>\n",
       "      <td>0.018936</td>\n",
       "      <td>0.027060</td>\n",
       "      <td>0.974975</td>\n",
       "      <td>00:00</td>\n",
       "    </tr>\n",
       "    <tr>\n",
       "      <td>18</td>\n",
       "      <td>0.018543</td>\n",
       "      <td>0.026470</td>\n",
       "      <td>0.976938</td>\n",
       "      <td>00:00</td>\n",
       "    </tr>\n",
       "    <tr>\n",
       "      <td>19</td>\n",
       "      <td>0.018184</td>\n",
       "      <td>0.025933</td>\n",
       "      <td>0.977429</td>\n",
       "      <td>00:00</td>\n",
       "    </tr>\n",
       "    <tr>\n",
       "      <td>20</td>\n",
       "      <td>0.017854</td>\n",
       "      <td>0.025443</td>\n",
       "      <td>0.977429</td>\n",
       "      <td>00:00</td>\n",
       "    </tr>\n",
       "    <tr>\n",
       "      <td>21</td>\n",
       "      <td>0.017548</td>\n",
       "      <td>0.024994</td>\n",
       "      <td>0.977429</td>\n",
       "      <td>00:00</td>\n",
       "    </tr>\n",
       "    <tr>\n",
       "      <td>22</td>\n",
       "      <td>0.017264</td>\n",
       "      <td>0.024581</td>\n",
       "      <td>0.977429</td>\n",
       "      <td>00:00</td>\n",
       "    </tr>\n",
       "    <tr>\n",
       "      <td>23</td>\n",
       "      <td>0.016999</td>\n",
       "      <td>0.024199</td>\n",
       "      <td>0.977920</td>\n",
       "      <td>00:00</td>\n",
       "    </tr>\n",
       "    <tr>\n",
       "      <td>24</td>\n",
       "      <td>0.016750</td>\n",
       "      <td>0.023846</td>\n",
       "      <td>0.977429</td>\n",
       "      <td>00:00</td>\n",
       "    </tr>\n",
       "    <tr>\n",
       "      <td>25</td>\n",
       "      <td>0.016515</td>\n",
       "      <td>0.023518</td>\n",
       "      <td>0.978901</td>\n",
       "      <td>00:00</td>\n",
       "    </tr>\n",
       "    <tr>\n",
       "      <td>26</td>\n",
       "      <td>0.016294</td>\n",
       "      <td>0.023214</td>\n",
       "      <td>0.979882</td>\n",
       "      <td>00:00</td>\n",
       "    </tr>\n",
       "    <tr>\n",
       "      <td>27</td>\n",
       "      <td>0.016084</td>\n",
       "      <td>0.022932</td>\n",
       "      <td>0.979882</td>\n",
       "      <td>00:00</td>\n",
       "    </tr>\n",
       "    <tr>\n",
       "      <td>28</td>\n",
       "      <td>0.015885</td>\n",
       "      <td>0.022668</td>\n",
       "      <td>0.979882</td>\n",
       "      <td>00:00</td>\n",
       "    </tr>\n",
       "    <tr>\n",
       "      <td>29</td>\n",
       "      <td>0.015696</td>\n",
       "      <td>0.022422</td>\n",
       "      <td>0.979882</td>\n",
       "      <td>00:00</td>\n",
       "    </tr>\n",
       "    <tr>\n",
       "      <td>30</td>\n",
       "      <td>0.015515</td>\n",
       "      <td>0.022191</td>\n",
       "      <td>0.979882</td>\n",
       "      <td>00:00</td>\n",
       "    </tr>\n",
       "    <tr>\n",
       "      <td>31</td>\n",
       "      <td>0.015343</td>\n",
       "      <td>0.021975</td>\n",
       "      <td>0.980373</td>\n",
       "      <td>00:00</td>\n",
       "    </tr>\n",
       "    <tr>\n",
       "      <td>32</td>\n",
       "      <td>0.015178</td>\n",
       "      <td>0.021773</td>\n",
       "      <td>0.980373</td>\n",
       "      <td>00:00</td>\n",
       "    </tr>\n",
       "    <tr>\n",
       "      <td>33</td>\n",
       "      <td>0.015020</td>\n",
       "      <td>0.021583</td>\n",
       "      <td>0.980864</td>\n",
       "      <td>00:00</td>\n",
       "    </tr>\n",
       "    <tr>\n",
       "      <td>34</td>\n",
       "      <td>0.014869</td>\n",
       "      <td>0.021404</td>\n",
       "      <td>0.981354</td>\n",
       "      <td>00:00</td>\n",
       "    </tr>\n",
       "    <tr>\n",
       "      <td>35</td>\n",
       "      <td>0.014723</td>\n",
       "      <td>0.021235</td>\n",
       "      <td>0.981354</td>\n",
       "      <td>00:00</td>\n",
       "    </tr>\n",
       "    <tr>\n",
       "      <td>36</td>\n",
       "      <td>0.014584</td>\n",
       "      <td>0.021076</td>\n",
       "      <td>0.980864</td>\n",
       "      <td>00:00</td>\n",
       "    </tr>\n",
       "    <tr>\n",
       "      <td>37</td>\n",
       "      <td>0.014449</td>\n",
       "      <td>0.020926</td>\n",
       "      <td>0.980864</td>\n",
       "      <td>00:00</td>\n",
       "    </tr>\n",
       "    <tr>\n",
       "      <td>38</td>\n",
       "      <td>0.014320</td>\n",
       "      <td>0.020783</td>\n",
       "      <td>0.982336</td>\n",
       "      <td>00:00</td>\n",
       "    </tr>\n",
       "    <tr>\n",
       "      <td>39</td>\n",
       "      <td>0.014195</td>\n",
       "      <td>0.020648</td>\n",
       "      <td>0.982336</td>\n",
       "      <td>00:00</td>\n",
       "    </tr>\n",
       "  </tbody>\n",
       "</table>"
      ],
      "text/plain": [
       "<IPython.core.display.HTML object>"
      ]
     },
     "metadata": {},
     "output_type": "display_data"
    }
   ],
   "source": [
    "learn.fit(40, 0.1)"
   ]
  },
  {
   "cell_type": "code",
   "execution_count": 217,
   "id": "d5410e0a-c344-4bbb-9e3c-4dc4ecde66ee",
   "metadata": {},
   "outputs": [
    {
     "data": {
      "image/png": "[encoded data removed]",
      "text/plain": [
       "<Figure size 640x480 with 1 Axes>"
      ]
     },
     "metadata": {},
     "output_type": "display_data"
    }
   ],
   "source": [
    "plt.plot(L(learn.recorder.values).itemgot(2));"
   ]
  },
  {
   "cell_type": "code",
   "execution_count": 218,
   "id": "c8450838-0ced-4dd2-831c-2e7e8508ecd8",
   "metadata": {},
   "outputs": [
    {
     "data": {
      "text/plain": [
       "0.98233562707901"
      ]
     },
     "execution_count": 218,
     "metadata": {},
     "output_type": "execute_result"
    }
   ],
   "source": [
    "learn.recorder.values[-1][2]"
   ]
  },
  {
   "cell_type": "code",
   "execution_count": 220,
   "id": "4939a65a-903f-45de-a93f-cc552e7776f1",
   "metadata": {},
   "outputs": [
    {
     "data": {
      "text/html": [
       "\n",
       "<style>\n",
       "    /* Turns off some styling */\n",
       "    progress {\n",
       "        /* gets rid of default border in Firefox and Opera. */\n",
       "        border: none;\n",
       "        /* Needs to be in here for Safari polyfill so background images work as expected. */\n",
       "        background-size: auto;\n",
       "    }\n",
       "    progress:not([value]), progress:not([value])::-webkit-progress-bar {\n",
       "        background: repeating-linear-gradient(45deg, #7e7e7e, #7e7e7e 10px, #5c5c5c 10px, #5c5c5c 20px);\n",
       "    }\n",
       "    .progress-bar-interrupted, .progress-bar-interrupted::-webkit-progress-bar {\n",
       "        background: #F44336;\n",
       "    }\n",
       "</style>\n"
      ],
      "text/plain": [
       "<IPython.core.display.HTML object>"
      ]
     },
     "metadata": {},
     "output_type": "display_data"
    },
    {
     "data": {
      "text/html": [
       "<table border=\"1\" class=\"dataframe\">\n",
       "  <thead>\n",
       "    <tr style=\"text-align: left;\">\n",
       "      <th>epoch</th>\n",
       "      <th>train_loss</th>\n",
       "      <th>valid_loss</th>\n",
       "      <th>accuracy</th>\n",
       "      <th>time</th>\n",
       "    </tr>\n",
       "  </thead>\n",
       "  <tbody>\n",
       "    <tr>\n",
       "      <td>0</td>\n",
       "      <td>0.092215</td>\n",
       "      <td>0.015407</td>\n",
       "      <td>0.996565</td>\n",
       "      <td>00:13</td>\n",
       "    </tr>\n",
       "  </tbody>\n",
       "</table>"
      ],
      "text/plain": [
       "<IPython.core.display.HTML object>"
      ]
     },
     "metadata": {},
     "output_type": "display_data"
    }
   ],
   "source": [
    "dls = ImageDataLoaders.from_folder(path)\n",
    "learn = vision_learner(dls, resnet18, pretrained=False, loss_func=F.cross_entropy, metrics=accuracy)\n",
    "learn.fit_one_cycle(1, 0.1)"
   ]
  },
  {
   "cell_type": "code",
   "execution_count": 223,
   "id": "5670622e-f55b-448c-b3a6-def4283553ee",
   "metadata": {},
   "outputs": [
    {
     "data": {
      "text/plain": [
       "torch.Size([64, 3, 7, 7])"
      ]
     },
     "execution_count": 223,
     "metadata": {},
     "output_type": "execute_result"
    }
   ],
   "source": [
    "first(learn.parameters()).shape"
   ]
  },
  {
   "cell_type": "code",
   "execution_count": 224,
   "id": "e4673e57-08ae-4b7a-98d9-c028c040093a",
   "metadata": {},
   "outputs": [
    {
     "name": "stdout",
     "output_type": "stream",
     "text": [
      "torch.Size([64, 3, 7, 7])\n",
      "torch.Size([64])\n",
      "torch.Size([64])\n",
      "torch.Size([64, 64, 3, 3])\n",
      "torch.Size([64])\n",
      "torch.Size([64])\n",
      "torch.Size([64, 64, 3, 3])\n",
      "torch.Size([64])\n",
      "torch.Size([64])\n",
      "torch.Size([64, 64, 3, 3])\n",
      "torch.Size([64])\n",
      "torch.Size([64])\n",
      "torch.Size([64, 64, 3, 3])\n",
      "torch.Size([64])\n",
      "torch.Size([64])\n",
      "torch.Size([128, 64, 3, 3])\n",
      "torch.Size([128])\n",
      "torch.Size([128])\n",
      "torch.Size([128, 128, 3, 3])\n",
      "torch.Size([128])\n",
      "torch.Size([128])\n",
      "torch.Size([128, 64, 1, 1])\n",
      "torch.Size([128])\n",
      "torch.Size([128])\n",
      "torch.Size([128, 128, 3, 3])\n",
      "torch.Size([128])\n",
      "torch.Size([128])\n",
      "torch.Size([128, 128, 3, 3])\n",
      "torch.Size([128])\n",
      "torch.Size([128])\n",
      "torch.Size([256, 128, 3, 3])\n",
      "torch.Size([256])\n",
      "torch.Size([256])\n",
      "torch.Size([256, 256, 3, 3])\n",
      "torch.Size([256])\n",
      "torch.Size([256])\n",
      "torch.Size([256, 128, 1, 1])\n",
      "torch.Size([256])\n",
      "torch.Size([256])\n",
      "torch.Size([256, 256, 3, 3])\n",
      "torch.Size([256])\n",
      "torch.Size([256])\n",
      "torch.Size([256, 256, 3, 3])\n",
      "torch.Size([256])\n",
      "torch.Size([256])\n",
      "torch.Size([512, 256, 3, 3])\n",
      "torch.Size([512])\n",
      "torch.Size([512])\n",
      "torch.Size([512, 512, 3, 3])\n",
      "torch.Size([512])\n",
      "torch.Size([512])\n",
      "torch.Size([512, 256, 1, 1])\n",
      "torch.Size([512])\n",
      "torch.Size([512])\n",
      "torch.Size([512, 512, 3, 3])\n",
      "torch.Size([512])\n",
      "torch.Size([512])\n",
      "torch.Size([512, 512, 3, 3])\n",
      "torch.Size([512])\n",
      "torch.Size([512])\n",
      "torch.Size([1024])\n",
      "torch.Size([1024])\n",
      "torch.Size([512, 1024])\n",
      "torch.Size([512])\n",
      "torch.Size([512])\n",
      "torch.Size([2, 512])\n"
     ]
    }
   ],
   "source": [
    "for p in learn.parameters(): print(p.shape)"
   ]
  },
  {
   "cell_type": "code",
   "execution_count": null,
   "id": "7d0309f0-d696-4cf6-b894-877e0346b574",
   "metadata": {},
   "outputs": [],
   "source": []
  }
 ],
 "metadata": {
  "kernelspec": {
   "display_name": "Python 3 (ipykernel)",
   "language": "python",
   "name": "python3"
  },
  "language_info": {
   "codemirror_mode": {
    "name": "ipython",
    "version": 3
   },
   "file_extension": ".py",
   "mimetype": "text/x-python",
   "name": "python",
   "nbconvert_exporter": "python",
   "pygments_lexer": "ipython3",
   "version": "3.12.9"
  }
 },
 "nbformat": 4,
 "nbformat_minor": 5
}
