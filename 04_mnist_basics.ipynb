{
 "cells": [
  {
   "cell_type": "code",
   "execution_count": 1,
   "id": "ab17558b-8bbc-4618-b2d8-bd47534694a4",
   "metadata": {},
   "outputs": [],
   "source": [
    "from fastai.vision.all import *"
   ]
  },
  {
   "cell_type": "code",
   "execution_count": 2,
   "id": "450630bd-39e3-46a7-b960-74424edcddca",
   "metadata": {},
   "outputs": [],
   "source": [
    "path = untar_data(URLs.MNIST_SAMPLE)"
   ]
  },
  {
   "cell_type": "code",
   "execution_count": 3,
   "id": "86a1c5d5-a9bd-44f2-a7d5-537b4eeabde1",
   "metadata": {},
   "outputs": [
    {
     "data": {
      "text/plain": [
       "(#3) [Path('/home/marco/.fastai/data/mnist_sample/labels.csv'),Path('/home/marco/.fastai/data/mnist_sample/valid'),Path('/home/marco/.fastai/data/mnist_sample/train')]"
      ]
     },
     "execution_count": 3,
     "metadata": {},
     "output_type": "execute_result"
    }
   ],
   "source": [
    "path.ls()"
   ]
  },
  {
   "cell_type": "code",
   "execution_count": 4,
   "id": "52b83188-f415-4d33-9c5b-8258abb7fcb7",
   "metadata": {},
   "outputs": [],
   "source": [
    "threes = (path/'train'/'3').ls().sorted()\n",
    "sevens = (path/'train'/'7').ls().sorted()"
   ]
  },
  {
   "cell_type": "code",
   "execution_count": 5,
   "id": "c123aa82-3879-422f-9bd8-a96a648087f5",
   "metadata": {},
   "outputs": [
    {
     "data": {
      "image/jpeg": "[encoded data removed]",
      "image/png": "[encoded data removed]",
      "text/plain": [
       "PILImage mode=RGB size=28x28"
      ]
     },
     "execution_count": 5,
     "metadata": {},
     "output_type": "execute_result"
    }
   ],
   "source": [
    "PILImage.create(threes[3])"
   ]
  },
  {
   "cell_type": "code",
   "execution_count": 6,
   "id": "154c4c73-2216-4b8f-8143-6c6193ba70e3",
   "metadata": {},
   "outputs": [
    {
     "data": {
      "image/jpeg": "[encoded data removed]",
      "image/png": "[encoded data removed]",
      "text/plain": [
       "<PIL.PngImagePlugin.PngImageFile image mode=L size=28x28>"
      ]
     },
     "execution_count": 6,
     "metadata": {},
     "output_type": "execute_result"
    }
   ],
   "source": [
    "im3 = Image.open(threes[1])\n",
    "im3"
   ]
  },
  {
   "cell_type": "code",
   "execution_count": 7,
   "id": "bc216901-5f68-4fea-a8a0-629c25fd1e65",
   "metadata": {},
   "outputs": [
    {
     "data": {
      "text/plain": [
       "array([[  0,   0,   0,   0,   0,   0,   0,   0,   0,   0,   0],\n",
       "       [  0,   0,   0,   0,   0,  29, 150, 195, 254, 255, 254],\n",
       "       [  0,   0,   0,  48, 166, 224, 253, 253, 234, 196, 253],\n",
       "       [  0,  93, 244, 249, 253, 187,  46,  10,   8,   4,  10],\n",
       "       [  0, 107, 253, 253, 230,  48,   0,   0,   0,   0,   0],\n",
       "       [  0,   3,  20,  20,  15,   0,   0,   0,   0,   0,  43],\n",
       "       [  0,   0,   0,   0,   0,   0,   0,   0,   0,   0, 249],\n",
       "       [  0,   0,   0,   0,   0,   0,   0,  14, 101, 223, 253],\n",
       "       [  0,   0,   0,   0,   0,  11, 166, 239, 253, 253, 253],\n",
       "       [  0,   0,   0,   0,   0,  16, 248, 250, 253, 253, 253],\n",
       "       [  0,   0,   0,   0,   0,   0,   0,  43,  98,  98, 208]],\n",
       "      dtype=uint8)"
      ]
     },
     "execution_count": 7,
     "metadata": {},
     "output_type": "execute_result"
    }
   ],
   "source": [
    "array(im3)[4:15,4:15]"
   ]
  },
  {
   "cell_type": "code",
   "execution_count": 8,
   "id": "21666cba-7aaf-4ff0-954c-58dee1bfcf16",
   "metadata": {},
   "outputs": [
    {
     "data": {
      "text/plain": [
       "tensor([[  0,   0,   0,   0,   0,   0,   0,   0,   0,   0,   0],\n",
       "        [  0,   0,   0,   0,   0,  29, 150, 195, 254, 255, 254],\n",
       "        [  0,   0,   0,  48, 166, 224, 253, 253, 234, 196, 253],\n",
       "        [  0,  93, 244, 249, 253, 187,  46,  10,   8,   4,  10],\n",
       "        [  0, 107, 253, 253, 230,  48,   0,   0,   0,   0,   0],\n",
       "        [  0,   3,  20,  20,  15,   0,   0,   0,   0,   0,  43],\n",
       "        [  0,   0,   0,   0,   0,   0,   0,   0,   0,   0, 249],\n",
       "        [  0,   0,   0,   0,   0,   0,   0,  14, 101, 223, 253],\n",
       "        [  0,   0,   0,   0,   0,  11, 166, 239, 253, 253, 253],\n",
       "        [  0,   0,   0,   0,   0,  16, 248, 250, 253, 253, 253],\n",
       "        [  0,   0,   0,   0,   0,   0,   0,  43,  98,  98, 208]],\n",
       "       dtype=torch.uint8)"
      ]
     },
     "execution_count": 8,
     "metadata": {},
     "output_type": "execute_result"
    }
   ],
   "source": [
    "tensor(im3)[4:15,4:15]"
   ]
  },
  {
   "cell_type": "code",
   "execution_count": 9,
   "id": "b7f3e459-767a-4e29-aeec-e00e3f01be84",
   "metadata": {},
   "outputs": [
    {
     "data": {
      "text/html": [
       "<style type=\"text/css\">\n",
       "#T_9ac91_row0_col0, #T_9ac91_row0_col1, #T_9ac91_row0_col2, #T_9ac91_row0_col3, #T_9ac91_row0_col4, #T_9ac91_row0_col5, #T_9ac91_row0_col6, #T_9ac91_row0_col7, #T_9ac91_row0_col8, #T_9ac91_row0_col9, #T_9ac91_row0_col10, #T_9ac91_row0_col11, #T_9ac91_row0_col12, #T_9ac91_row0_col13, #T_9ac91_row0_col14, #T_9ac91_row0_col15, #T_9ac91_row0_col16, #T_9ac91_row0_col17, #T_9ac91_row0_col18, #T_9ac91_row0_col19, #T_9ac91_row0_col20, #T_9ac91_row1_col0, #T_9ac91_row1_col1, #T_9ac91_row1_col2, #T_9ac91_row1_col3, #T_9ac91_row1_col4, #T_9ac91_row1_col15, #T_9ac91_row1_col16, #T_9ac91_row1_col17, #T_9ac91_row1_col18, #T_9ac91_row1_col19, #T_9ac91_row1_col20, #T_9ac91_row2_col0, #T_9ac91_row2_col1, #T_9ac91_row2_col2, #T_9ac91_row2_col15, #T_9ac91_row2_col16, #T_9ac91_row2_col17, #T_9ac91_row2_col18, #T_9ac91_row2_col19, #T_9ac91_row2_col20, #T_9ac91_row3_col0, #T_9ac91_row3_col15, #T_9ac91_row3_col16, #T_9ac91_row3_col17, #T_9ac91_row3_col18, #T_9ac91_row3_col19, #T_9ac91_row3_col20, #T_9ac91_row4_col0, #T_9ac91_row4_col6, #T_9ac91_row4_col7, #T_9ac91_row4_col8, #T_9ac91_row4_col9, #T_9ac91_row4_col10, #T_9ac91_row4_col15, #T_9ac91_row4_col16, #T_9ac91_row4_col17, #T_9ac91_row4_col18, #T_9ac91_row4_col19, #T_9ac91_row4_col20, #T_9ac91_row5_col0, #T_9ac91_row5_col5, #T_9ac91_row5_col6, #T_9ac91_row5_col7, #T_9ac91_row5_col8, #T_9ac91_row5_col9, #T_9ac91_row5_col15, #T_9ac91_row5_col16, #T_9ac91_row5_col17, #T_9ac91_row5_col18, #T_9ac91_row5_col19, #T_9ac91_row5_col20, #T_9ac91_row6_col0, #T_9ac91_row6_col1, #T_9ac91_row6_col2, #T_9ac91_row6_col3, #T_9ac91_row6_col4, #T_9ac91_row6_col5, #T_9ac91_row6_col6, #T_9ac91_row6_col7, #T_9ac91_row6_col8, #T_9ac91_row6_col9, #T_9ac91_row6_col14, #T_9ac91_row6_col15, #T_9ac91_row6_col16, #T_9ac91_row6_col17, #T_9ac91_row6_col18, #T_9ac91_row6_col19, #T_9ac91_row6_col20, #T_9ac91_row7_col0, #T_9ac91_row7_col1, #T_9ac91_row7_col2, #T_9ac91_row7_col3, #T_9ac91_row7_col4, #T_9ac91_row7_col5, #T_9ac91_row7_col6, #T_9ac91_row7_col13, #T_9ac91_row7_col14, #T_9ac91_row7_col15, #T_9ac91_row7_col16, #T_9ac91_row7_col17, #T_9ac91_row7_col18, #T_9ac91_row7_col19, #T_9ac91_row7_col20, #T_9ac91_row8_col0, #T_9ac91_row8_col1, #T_9ac91_row8_col2, #T_9ac91_row8_col3, #T_9ac91_row8_col4, #T_9ac91_row8_col13, #T_9ac91_row8_col14, #T_9ac91_row8_col15, #T_9ac91_row8_col16, #T_9ac91_row8_col17, #T_9ac91_row8_col18, #T_9ac91_row8_col19, #T_9ac91_row8_col20, #T_9ac91_row9_col0, #T_9ac91_row9_col1, #T_9ac91_row9_col2, #T_9ac91_row9_col3, #T_9ac91_row9_col4, #T_9ac91_row9_col16, #T_9ac91_row9_col17, #T_9ac91_row9_col18, #T_9ac91_row9_col19, #T_9ac91_row9_col20, #T_9ac91_row10_col0, #T_9ac91_row10_col1, #T_9ac91_row10_col2, #T_9ac91_row10_col3, #T_9ac91_row10_col4, #T_9ac91_row10_col5, #T_9ac91_row10_col6, #T_9ac91_row10_col17, #T_9ac91_row10_col18, #T_9ac91_row10_col19, #T_9ac91_row10_col20 {\n",
       "  font-size: 6pt;\n",
       "  background-color: #f7fcf5;\n",
       "  color: #000000;\n",
       "}\n",
       "#T_9ac91_row1_col5 {\n",
       "  font-size: 6pt;\n",
       "  background-color: #e4f5df;\n",
       "  color: #000000;\n",
       "}\n",
       "#T_9ac91_row1_col6, #T_9ac91_row1_col13 {\n",
       "  font-size: 6pt;\n",
       "  background-color: #4eb264;\n",
       "  color: #f1f1f1;\n",
       "}\n",
       "#T_9ac91_row1_col7 {\n",
       "  font-size: 6pt;\n",
       "  background-color: #1d8640;\n",
       "  color: #f1f1f1;\n",
       "}\n",
       "#T_9ac91_row1_col8, #T_9ac91_row1_col9, #T_9ac91_row1_col10, #T_9ac91_row2_col5, #T_9ac91_row2_col6, #T_9ac91_row2_col7, #T_9ac91_row2_col11, #T_9ac91_row2_col12, #T_9ac91_row2_col13, #T_9ac91_row3_col4, #T_9ac91_row3_col12, #T_9ac91_row3_col13, #T_9ac91_row4_col1, #T_9ac91_row4_col2, #T_9ac91_row4_col3, #T_9ac91_row4_col12, #T_9ac91_row4_col13, #T_9ac91_row5_col12, #T_9ac91_row6_col11, #T_9ac91_row9_col11, #T_9ac91_row10_col11, #T_9ac91_row10_col12, #T_9ac91_row10_col13, #T_9ac91_row10_col14, #T_9ac91_row10_col15, #T_9ac91_row10_col16 {\n",
       "  font-size: 6pt;\n",
       "  background-color: #00441b;\n",
       "  color: #f1f1f1;\n",
       "}\n",
       "#T_9ac91_row1_col11 {\n",
       "  font-size: 6pt;\n",
       "  background-color: #2f984f;\n",
       "  color: #f1f1f1;\n",
       "}\n",
       "#T_9ac91_row1_col12 {\n",
       "  font-size: 6pt;\n",
       "  background-color: #1f8742;\n",
       "  color: #f1f1f1;\n",
       "}\n",
       "#T_9ac91_row1_col14 {\n",
       "  font-size: 6pt;\n",
       "  background-color: #9fd899;\n",
       "  color: #000000;\n",
       "}\n",
       "#T_9ac91_row2_col3 {\n",
       "  font-size: 6pt;\n",
       "  background-color: #d6efd0;\n",
       "  color: #000000;\n",
       "}\n",
       "#T_9ac91_row2_col4, #T_9ac91_row8_col6 {\n",
       "  font-size: 6pt;\n",
       "  background-color: #3aa357;\n",
       "  color: #f1f1f1;\n",
       "}\n",
       "#T_9ac91_row2_col8, #T_9ac91_row2_col14, #T_9ac91_row3_col14 {\n",
       "  font-size: 6pt;\n",
       "  background-color: #005e26;\n",
       "  color: #f1f1f1;\n",
       "}\n",
       "#T_9ac91_row2_col9, #T_9ac91_row3_col11 {\n",
       "  font-size: 6pt;\n",
       "  background-color: #1e8741;\n",
       "  color: #f1f1f1;\n",
       "}\n",
       "#T_9ac91_row2_col10, #T_9ac91_row7_col10, #T_9ac91_row8_col8, #T_9ac91_row8_col10, #T_9ac91_row9_col8, #T_9ac91_row9_col10 {\n",
       "  font-size: 6pt;\n",
       "  background-color: #00451c;\n",
       "  color: #f1f1f1;\n",
       "}\n",
       "#T_9ac91_row3_col1 {\n",
       "  font-size: 6pt;\n",
       "  background-color: #016e2d;\n",
       "  color: #f1f1f1;\n",
       "}\n",
       "#T_9ac91_row3_col2 {\n",
       "  font-size: 6pt;\n",
       "  background-color: #005020;\n",
       "  color: #f1f1f1;\n",
       "}\n",
       "#T_9ac91_row3_col3 {\n",
       "  font-size: 6pt;\n",
       "  background-color: #00491d;\n",
       "  color: #f1f1f1;\n",
       "}\n",
       "#T_9ac91_row3_col5 {\n",
       "  font-size: 6pt;\n",
       "  background-color: #0b7734;\n",
       "  color: #f1f1f1;\n",
       "}\n",
       "#T_9ac91_row3_col6 {\n",
       "  font-size: 6pt;\n",
       "  background-color: #d8f0d2;\n",
       "  color: #000000;\n",
       "}\n",
       "#T_9ac91_row3_col7, #T_9ac91_row3_col10 {\n",
       "  font-size: 6pt;\n",
       "  background-color: #f1faee;\n",
       "  color: #000000;\n",
       "}\n",
       "#T_9ac91_row3_col8 {\n",
       "  font-size: 6pt;\n",
       "  background-color: #f2faf0;\n",
       "  color: #000000;\n",
       "}\n",
       "#T_9ac91_row3_col9 {\n",
       "  font-size: 6pt;\n",
       "  background-color: #f5fbf2;\n",
       "  color: #000000;\n",
       "}\n",
       "#T_9ac91_row4_col4 {\n",
       "  font-size: 6pt;\n",
       "  background-color: #006227;\n",
       "  color: #f1f1f1;\n",
       "}\n",
       "#T_9ac91_row4_col5 {\n",
       "  font-size: 6pt;\n",
       "  background-color: #d0edca;\n",
       "  color: #000000;\n",
       "}\n",
       "#T_9ac91_row4_col11 {\n",
       "  font-size: 6pt;\n",
       "  background-color: #208843;\n",
       "  color: #f1f1f1;\n",
       "}\n",
       "#T_9ac91_row4_col14 {\n",
       "  font-size: 6pt;\n",
       "  background-color: #45ad5f;\n",
       "  color: #f1f1f1;\n",
       "}\n",
       "#T_9ac91_row5_col1 {\n",
       "  font-size: 6pt;\n",
       "  background-color: #f3faf0;\n",
       "  color: #000000;\n",
       "}\n",
       "#T_9ac91_row5_col2, #T_9ac91_row5_col3 {\n",
       "  font-size: 6pt;\n",
       "  background-color: #ecf8e8;\n",
       "  color: #000000;\n",
       "}\n",
       "#T_9ac91_row5_col4 {\n",
       "  font-size: 6pt;\n",
       "  background-color: #eff9eb;\n",
       "  color: #000000;\n",
       "}\n",
       "#T_9ac91_row5_col10, #T_9ac91_row10_col7 {\n",
       "  font-size: 6pt;\n",
       "  background-color: #dbf1d5;\n",
       "  color: #000000;\n",
       "}\n",
       "#T_9ac91_row5_col11 {\n",
       "  font-size: 6pt;\n",
       "  background-color: #00692a;\n",
       "  color: #f1f1f1;\n",
       "}\n",
       "#T_9ac91_row5_col13, #T_9ac91_row6_col12 {\n",
       "  font-size: 6pt;\n",
       "  background-color: #004e1f;\n",
       "  color: #f1f1f1;\n",
       "}\n",
       "#T_9ac91_row5_col14 {\n",
       "  font-size: 6pt;\n",
       "  background-color: #bbe4b4;\n",
       "  color: #000000;\n",
       "}\n",
       "#T_9ac91_row6_col10, #T_9ac91_row7_col11, #T_9ac91_row9_col6 {\n",
       "  font-size: 6pt;\n",
       "  background-color: #004a1e;\n",
       "  color: #f1f1f1;\n",
       "}\n",
       "#T_9ac91_row6_col13 {\n",
       "  font-size: 6pt;\n",
       "  background-color: #75c477;\n",
       "  color: #000000;\n",
       "}\n",
       "#T_9ac91_row7_col7 {\n",
       "  font-size: 6pt;\n",
       "  background-color: #eff9ec;\n",
       "  color: #000000;\n",
       "}\n",
       "#T_9ac91_row7_col8 {\n",
       "  font-size: 6pt;\n",
       "  background-color: #99d595;\n",
       "  color: #000000;\n",
       "}\n",
       "#T_9ac91_row7_col9 {\n",
       "  font-size: 6pt;\n",
       "  background-color: #006d2c;\n",
       "  color: #f1f1f1;\n",
       "}\n",
       "#T_9ac91_row7_col12 {\n",
       "  font-size: 6pt;\n",
       "  background-color: #78c679;\n",
       "  color: #000000;\n",
       "}\n",
       "#T_9ac91_row8_col5 {\n",
       "  font-size: 6pt;\n",
       "  background-color: #f0f9ed;\n",
       "  color: #000000;\n",
       "}\n",
       "#T_9ac91_row8_col7 {\n",
       "  font-size: 6pt;\n",
       "  background-color: #005622;\n",
       "  color: #f1f1f1;\n",
       "}\n",
       "#T_9ac91_row8_col9, #T_9ac91_row9_col9 {\n",
       "  font-size: 6pt;\n",
       "  background-color: #00471c;\n",
       "  color: #f1f1f1;\n",
       "}\n",
       "#T_9ac91_row8_col11 {\n",
       "  font-size: 6pt;\n",
       "  background-color: #258d47;\n",
       "  color: #f1f1f1;\n",
       "}\n",
       "#T_9ac91_row8_col12 {\n",
       "  font-size: 6pt;\n",
       "  background-color: #e6f5e1;\n",
       "  color: #000000;\n",
       "}\n",
       "#T_9ac91_row9_col5 {\n",
       "  font-size: 6pt;\n",
       "  background-color: #edf8e9;\n",
       "  color: #000000;\n",
       "}\n",
       "#T_9ac91_row9_col7 {\n",
       "  font-size: 6pt;\n",
       "  background-color: #00481d;\n",
       "  color: #f1f1f1;\n",
       "}\n",
       "#T_9ac91_row9_col12 {\n",
       "  font-size: 6pt;\n",
       "  background-color: #005f26;\n",
       "  color: #f1f1f1;\n",
       "}\n",
       "#T_9ac91_row9_col13 {\n",
       "  font-size: 6pt;\n",
       "  background-color: #097532;\n",
       "  color: #f1f1f1;\n",
       "}\n",
       "#T_9ac91_row9_col14 {\n",
       "  font-size: 6pt;\n",
       "  background-color: #8ace88;\n",
       "  color: #000000;\n",
       "}\n",
       "#T_9ac91_row9_col15 {\n",
       "  font-size: 6pt;\n",
       "  background-color: #f6fcf4;\n",
       "  color: #000000;\n",
       "}\n",
       "#T_9ac91_row10_col8, #T_9ac91_row10_col9 {\n",
       "  font-size: 6pt;\n",
       "  background-color: #9ed798;\n",
       "  color: #000000;\n",
       "}\n",
       "#T_9ac91_row10_col10 {\n",
       "  font-size: 6pt;\n",
       "  background-color: #107a37;\n",
       "  color: #f1f1f1;\n",
       "}\n",
       "</style>\n",
       "<table id=\"T_9ac91\">\n",
       "  <thead>\n",
       "    <tr>\n",
       "      <th class=\"blank level0\" >&nbsp;</th>\n",
       "      <th id=\"T_9ac91_level0_col0\" class=\"col_heading level0 col0\" >0</th>\n",
       "      <th id=\"T_9ac91_level0_col1\" class=\"col_heading level0 col1\" >1</th>\n",
       "      <th id=\"T_9ac91_level0_col2\" class=\"col_heading level0 col2\" >2</th>\n",
       "      <th id=\"T_9ac91_level0_col3\" class=\"col_heading level0 col3\" >3</th>\n",
       "      <th id=\"T_9ac91_level0_col4\" class=\"col_heading level0 col4\" >4</th>\n",
       "      <th id=\"T_9ac91_level0_col5\" class=\"col_heading level0 col5\" >5</th>\n",
       "      <th id=\"T_9ac91_level0_col6\" class=\"col_heading level0 col6\" >6</th>\n",
       "      <th id=\"T_9ac91_level0_col7\" class=\"col_heading level0 col7\" >7</th>\n",
       "      <th id=\"T_9ac91_level0_col8\" class=\"col_heading level0 col8\" >8</th>\n",
       "      <th id=\"T_9ac91_level0_col9\" class=\"col_heading level0 col9\" >9</th>\n",
       "      <th id=\"T_9ac91_level0_col10\" class=\"col_heading level0 col10\" >10</th>\n",
       "      <th id=\"T_9ac91_level0_col11\" class=\"col_heading level0 col11\" >11</th>\n",
       "      <th id=\"T_9ac91_level0_col12\" class=\"col_heading level0 col12\" >12</th>\n",
       "      <th id=\"T_9ac91_level0_col13\" class=\"col_heading level0 col13\" >13</th>\n",
       "      <th id=\"T_9ac91_level0_col14\" class=\"col_heading level0 col14\" >14</th>\n",
       "      <th id=\"T_9ac91_level0_col15\" class=\"col_heading level0 col15\" >15</th>\n",
       "      <th id=\"T_9ac91_level0_col16\" class=\"col_heading level0 col16\" >16</th>\n",
       "      <th id=\"T_9ac91_level0_col17\" class=\"col_heading level0 col17\" >17</th>\n",
       "      <th id=\"T_9ac91_level0_col18\" class=\"col_heading level0 col18\" >18</th>\n",
       "      <th id=\"T_9ac91_level0_col19\" class=\"col_heading level0 col19\" >19</th>\n",
       "      <th id=\"T_9ac91_level0_col20\" class=\"col_heading level0 col20\" >20</th>\n",
       "    </tr>\n",
       "  </thead>\n",
       "  <tbody>\n",
       "    <tr>\n",
       "      <th id=\"T_9ac91_level0_row0\" class=\"row_heading level0 row0\" >0</th>\n",
       "      <td id=\"T_9ac91_row0_col0\" class=\"data row0 col0\" >0</td>\n",
       "      <td id=\"T_9ac91_row0_col1\" class=\"data row0 col1\" >0</td>\n",
       "      <td id=\"T_9ac91_row0_col2\" class=\"data row0 col2\" >0</td>\n",
       "      <td id=\"T_9ac91_row0_col3\" class=\"data row0 col3\" >0</td>\n",
       "      <td id=\"T_9ac91_row0_col4\" class=\"data row0 col4\" >0</td>\n",
       "      <td id=\"T_9ac91_row0_col5\" class=\"data row0 col5\" >0</td>\n",
       "      <td id=\"T_9ac91_row0_col6\" class=\"data row0 col6\" >0</td>\n",
       "      <td id=\"T_9ac91_row0_col7\" class=\"data row0 col7\" >0</td>\n",
       "      <td id=\"T_9ac91_row0_col8\" class=\"data row0 col8\" >0</td>\n",
       "      <td id=\"T_9ac91_row0_col9\" class=\"data row0 col9\" >0</td>\n",
       "      <td id=\"T_9ac91_row0_col10\" class=\"data row0 col10\" >0</td>\n",
       "      <td id=\"T_9ac91_row0_col11\" class=\"data row0 col11\" >0</td>\n",
       "      <td id=\"T_9ac91_row0_col12\" class=\"data row0 col12\" >0</td>\n",
       "      <td id=\"T_9ac91_row0_col13\" class=\"data row0 col13\" >0</td>\n",
       "      <td id=\"T_9ac91_row0_col14\" class=\"data row0 col14\" >0</td>\n",
       "      <td id=\"T_9ac91_row0_col15\" class=\"data row0 col15\" >0</td>\n",
       "      <td id=\"T_9ac91_row0_col16\" class=\"data row0 col16\" >0</td>\n",
       "      <td id=\"T_9ac91_row0_col17\" class=\"data row0 col17\" >0</td>\n",
       "      <td id=\"T_9ac91_row0_col18\" class=\"data row0 col18\" >0</td>\n",
       "      <td id=\"T_9ac91_row0_col19\" class=\"data row0 col19\" >0</td>\n",
       "      <td id=\"T_9ac91_row0_col20\" class=\"data row0 col20\" >0</td>\n",
       "    </tr>\n",
       "    <tr>\n",
       "      <th id=\"T_9ac91_level0_row1\" class=\"row_heading level0 row1\" >1</th>\n",
       "      <td id=\"T_9ac91_row1_col0\" class=\"data row1 col0\" >0</td>\n",
       "      <td id=\"T_9ac91_row1_col1\" class=\"data row1 col1\" >0</td>\n",
       "      <td id=\"T_9ac91_row1_col2\" class=\"data row1 col2\" >0</td>\n",
       "      <td id=\"T_9ac91_row1_col3\" class=\"data row1 col3\" >0</td>\n",
       "      <td id=\"T_9ac91_row1_col4\" class=\"data row1 col4\" >0</td>\n",
       "      <td id=\"T_9ac91_row1_col5\" class=\"data row1 col5\" >29</td>\n",
       "      <td id=\"T_9ac91_row1_col6\" class=\"data row1 col6\" >150</td>\n",
       "      <td id=\"T_9ac91_row1_col7\" class=\"data row1 col7\" >195</td>\n",
       "      <td id=\"T_9ac91_row1_col8\" class=\"data row1 col8\" >254</td>\n",
       "      <td id=\"T_9ac91_row1_col9\" class=\"data row1 col9\" >255</td>\n",
       "      <td id=\"T_9ac91_row1_col10\" class=\"data row1 col10\" >254</td>\n",
       "      <td id=\"T_9ac91_row1_col11\" class=\"data row1 col11\" >176</td>\n",
       "      <td id=\"T_9ac91_row1_col12\" class=\"data row1 col12\" >193</td>\n",
       "      <td id=\"T_9ac91_row1_col13\" class=\"data row1 col13\" >150</td>\n",
       "      <td id=\"T_9ac91_row1_col14\" class=\"data row1 col14\" >96</td>\n",
       "      <td id=\"T_9ac91_row1_col15\" class=\"data row1 col15\" >0</td>\n",
       "      <td id=\"T_9ac91_row1_col16\" class=\"data row1 col16\" >0</td>\n",
       "      <td id=\"T_9ac91_row1_col17\" class=\"data row1 col17\" >0</td>\n",
       "      <td id=\"T_9ac91_row1_col18\" class=\"data row1 col18\" >0</td>\n",
       "      <td id=\"T_9ac91_row1_col19\" class=\"data row1 col19\" >0</td>\n",
       "      <td id=\"T_9ac91_row1_col20\" class=\"data row1 col20\" >0</td>\n",
       "    </tr>\n",
       "    <tr>\n",
       "      <th id=\"T_9ac91_level0_row2\" class=\"row_heading level0 row2\" >2</th>\n",
       "      <td id=\"T_9ac91_row2_col0\" class=\"data row2 col0\" >0</td>\n",
       "      <td id=\"T_9ac91_row2_col1\" class=\"data row2 col1\" >0</td>\n",
       "      <td id=\"T_9ac91_row2_col2\" class=\"data row2 col2\" >0</td>\n",
       "      <td id=\"T_9ac91_row2_col3\" class=\"data row2 col3\" >48</td>\n",
       "      <td id=\"T_9ac91_row2_col4\" class=\"data row2 col4\" >166</td>\n",
       "      <td id=\"T_9ac91_row2_col5\" class=\"data row2 col5\" >224</td>\n",
       "      <td id=\"T_9ac91_row2_col6\" class=\"data row2 col6\" >253</td>\n",
       "      <td id=\"T_9ac91_row2_col7\" class=\"data row2 col7\" >253</td>\n",
       "      <td id=\"T_9ac91_row2_col8\" class=\"data row2 col8\" >234</td>\n",
       "      <td id=\"T_9ac91_row2_col9\" class=\"data row2 col9\" >196</td>\n",
       "      <td id=\"T_9ac91_row2_col10\" class=\"data row2 col10\" >253</td>\n",
       "      <td id=\"T_9ac91_row2_col11\" class=\"data row2 col11\" >253</td>\n",
       "      <td id=\"T_9ac91_row2_col12\" class=\"data row2 col12\" >253</td>\n",
       "      <td id=\"T_9ac91_row2_col13\" class=\"data row2 col13\" >253</td>\n",
       "      <td id=\"T_9ac91_row2_col14\" class=\"data row2 col14\" >233</td>\n",
       "      <td id=\"T_9ac91_row2_col15\" class=\"data row2 col15\" >0</td>\n",
       "      <td id=\"T_9ac91_row2_col16\" class=\"data row2 col16\" >0</td>\n",
       "      <td id=\"T_9ac91_row2_col17\" class=\"data row2 col17\" >0</td>\n",
       "      <td id=\"T_9ac91_row2_col18\" class=\"data row2 col18\" >0</td>\n",
       "      <td id=\"T_9ac91_row2_col19\" class=\"data row2 col19\" >0</td>\n",
       "      <td id=\"T_9ac91_row2_col20\" class=\"data row2 col20\" >0</td>\n",
       "    </tr>\n",
       "    <tr>\n",
       "      <th id=\"T_9ac91_level0_row3\" class=\"row_heading level0 row3\" >3</th>\n",
       "      <td id=\"T_9ac91_row3_col0\" class=\"data row3 col0\" >0</td>\n",
       "      <td id=\"T_9ac91_row3_col1\" class=\"data row3 col1\" >93</td>\n",
       "      <td id=\"T_9ac91_row3_col2\" class=\"data row3 col2\" >244</td>\n",
       "      <td id=\"T_9ac91_row3_col3\" class=\"data row3 col3\" >249</td>\n",
       "      <td id=\"T_9ac91_row3_col4\" class=\"data row3 col4\" >253</td>\n",
       "      <td id=\"T_9ac91_row3_col5\" class=\"data row3 col5\" >187</td>\n",
       "      <td id=\"T_9ac91_row3_col6\" class=\"data row3 col6\" >46</td>\n",
       "      <td id=\"T_9ac91_row3_col7\" class=\"data row3 col7\" >10</td>\n",
       "      <td id=\"T_9ac91_row3_col8\" class=\"data row3 col8\" >8</td>\n",
       "      <td id=\"T_9ac91_row3_col9\" class=\"data row3 col9\" >4</td>\n",
       "      <td id=\"T_9ac91_row3_col10\" class=\"data row3 col10\" >10</td>\n",
       "      <td id=\"T_9ac91_row3_col11\" class=\"data row3 col11\" >194</td>\n",
       "      <td id=\"T_9ac91_row3_col12\" class=\"data row3 col12\" >253</td>\n",
       "      <td id=\"T_9ac91_row3_col13\" class=\"data row3 col13\" >253</td>\n",
       "      <td id=\"T_9ac91_row3_col14\" class=\"data row3 col14\" >233</td>\n",
       "      <td id=\"T_9ac91_row3_col15\" class=\"data row3 col15\" >0</td>\n",
       "      <td id=\"T_9ac91_row3_col16\" class=\"data row3 col16\" >0</td>\n",
       "      <td id=\"T_9ac91_row3_col17\" class=\"data row3 col17\" >0</td>\n",
       "      <td id=\"T_9ac91_row3_col18\" class=\"data row3 col18\" >0</td>\n",
       "      <td id=\"T_9ac91_row3_col19\" class=\"data row3 col19\" >0</td>\n",
       "      <td id=\"T_9ac91_row3_col20\" class=\"data row3 col20\" >0</td>\n",
       "    </tr>\n",
       "    <tr>\n",
       "      <th id=\"T_9ac91_level0_row4\" class=\"row_heading level0 row4\" >4</th>\n",
       "      <td id=\"T_9ac91_row4_col0\" class=\"data row4 col0\" >0</td>\n",
       "      <td id=\"T_9ac91_row4_col1\" class=\"data row4 col1\" >107</td>\n",
       "      <td id=\"T_9ac91_row4_col2\" class=\"data row4 col2\" >253</td>\n",
       "      <td id=\"T_9ac91_row4_col3\" class=\"data row4 col3\" >253</td>\n",
       "      <td id=\"T_9ac91_row4_col4\" class=\"data row4 col4\" >230</td>\n",
       "      <td id=\"T_9ac91_row4_col5\" class=\"data row4 col5\" >48</td>\n",
       "      <td id=\"T_9ac91_row4_col6\" class=\"data row4 col6\" >0</td>\n",
       "      <td id=\"T_9ac91_row4_col7\" class=\"data row4 col7\" >0</td>\n",
       "      <td id=\"T_9ac91_row4_col8\" class=\"data row4 col8\" >0</td>\n",
       "      <td id=\"T_9ac91_row4_col9\" class=\"data row4 col9\" >0</td>\n",
       "      <td id=\"T_9ac91_row4_col10\" class=\"data row4 col10\" >0</td>\n",
       "      <td id=\"T_9ac91_row4_col11\" class=\"data row4 col11\" >192</td>\n",
       "      <td id=\"T_9ac91_row4_col12\" class=\"data row4 col12\" >253</td>\n",
       "      <td id=\"T_9ac91_row4_col13\" class=\"data row4 col13\" >253</td>\n",
       "      <td id=\"T_9ac91_row4_col14\" class=\"data row4 col14\" >156</td>\n",
       "      <td id=\"T_9ac91_row4_col15\" class=\"data row4 col15\" >0</td>\n",
       "      <td id=\"T_9ac91_row4_col16\" class=\"data row4 col16\" >0</td>\n",
       "      <td id=\"T_9ac91_row4_col17\" class=\"data row4 col17\" >0</td>\n",
       "      <td id=\"T_9ac91_row4_col18\" class=\"data row4 col18\" >0</td>\n",
       "      <td id=\"T_9ac91_row4_col19\" class=\"data row4 col19\" >0</td>\n",
       "      <td id=\"T_9ac91_row4_col20\" class=\"data row4 col20\" >0</td>\n",
       "    </tr>\n",
       "    <tr>\n",
       "      <th id=\"T_9ac91_level0_row5\" class=\"row_heading level0 row5\" >5</th>\n",
       "      <td id=\"T_9ac91_row5_col0\" class=\"data row5 col0\" >0</td>\n",
       "      <td id=\"T_9ac91_row5_col1\" class=\"data row5 col1\" >3</td>\n",
       "      <td id=\"T_9ac91_row5_col2\" class=\"data row5 col2\" >20</td>\n",
       "      <td id=\"T_9ac91_row5_col3\" class=\"data row5 col3\" >20</td>\n",
       "      <td id=\"T_9ac91_row5_col4\" class=\"data row5 col4\" >15</td>\n",
       "      <td id=\"T_9ac91_row5_col5\" class=\"data row5 col5\" >0</td>\n",
       "      <td id=\"T_9ac91_row5_col6\" class=\"data row5 col6\" >0</td>\n",
       "      <td id=\"T_9ac91_row5_col7\" class=\"data row5 col7\" >0</td>\n",
       "      <td id=\"T_9ac91_row5_col8\" class=\"data row5 col8\" >0</td>\n",
       "      <td id=\"T_9ac91_row5_col9\" class=\"data row5 col9\" >0</td>\n",
       "      <td id=\"T_9ac91_row5_col10\" class=\"data row5 col10\" >43</td>\n",
       "      <td id=\"T_9ac91_row5_col11\" class=\"data row5 col11\" >224</td>\n",
       "      <td id=\"T_9ac91_row5_col12\" class=\"data row5 col12\" >253</td>\n",
       "      <td id=\"T_9ac91_row5_col13\" class=\"data row5 col13\" >245</td>\n",
       "      <td id=\"T_9ac91_row5_col14\" class=\"data row5 col14\" >74</td>\n",
       "      <td id=\"T_9ac91_row5_col15\" class=\"data row5 col15\" >0</td>\n",
       "      <td id=\"T_9ac91_row5_col16\" class=\"data row5 col16\" >0</td>\n",
       "      <td id=\"T_9ac91_row5_col17\" class=\"data row5 col17\" >0</td>\n",
       "      <td id=\"T_9ac91_row5_col18\" class=\"data row5 col18\" >0</td>\n",
       "      <td id=\"T_9ac91_row5_col19\" class=\"data row5 col19\" >0</td>\n",
       "      <td id=\"T_9ac91_row5_col20\" class=\"data row5 col20\" >0</td>\n",
       "    </tr>\n",
       "    <tr>\n",
       "      <th id=\"T_9ac91_level0_row6\" class=\"row_heading level0 row6\" >6</th>\n",
       "      <td id=\"T_9ac91_row6_col0\" class=\"data row6 col0\" >0</td>\n",
       "      <td id=\"T_9ac91_row6_col1\" class=\"data row6 col1\" >0</td>\n",
       "      <td id=\"T_9ac91_row6_col2\" class=\"data row6 col2\" >0</td>\n",
       "      <td id=\"T_9ac91_row6_col3\" class=\"data row6 col3\" >0</td>\n",
       "      <td id=\"T_9ac91_row6_col4\" class=\"data row6 col4\" >0</td>\n",
       "      <td id=\"T_9ac91_row6_col5\" class=\"data row6 col5\" >0</td>\n",
       "      <td id=\"T_9ac91_row6_col6\" class=\"data row6 col6\" >0</td>\n",
       "      <td id=\"T_9ac91_row6_col7\" class=\"data row6 col7\" >0</td>\n",
       "      <td id=\"T_9ac91_row6_col8\" class=\"data row6 col8\" >0</td>\n",
       "      <td id=\"T_9ac91_row6_col9\" class=\"data row6 col9\" >0</td>\n",
       "      <td id=\"T_9ac91_row6_col10\" class=\"data row6 col10\" >249</td>\n",
       "      <td id=\"T_9ac91_row6_col11\" class=\"data row6 col11\" >253</td>\n",
       "      <td id=\"T_9ac91_row6_col12\" class=\"data row6 col12\" >245</td>\n",
       "      <td id=\"T_9ac91_row6_col13\" class=\"data row6 col13\" >126</td>\n",
       "      <td id=\"T_9ac91_row6_col14\" class=\"data row6 col14\" >0</td>\n",
       "      <td id=\"T_9ac91_row6_col15\" class=\"data row6 col15\" >0</td>\n",
       "      <td id=\"T_9ac91_row6_col16\" class=\"data row6 col16\" >0</td>\n",
       "      <td id=\"T_9ac91_row6_col17\" class=\"data row6 col17\" >0</td>\n",
       "      <td id=\"T_9ac91_row6_col18\" class=\"data row6 col18\" >0</td>\n",
       "      <td id=\"T_9ac91_row6_col19\" class=\"data row6 col19\" >0</td>\n",
       "      <td id=\"T_9ac91_row6_col20\" class=\"data row6 col20\" >0</td>\n",
       "    </tr>\n",
       "    <tr>\n",
       "      <th id=\"T_9ac91_level0_row7\" class=\"row_heading level0 row7\" >7</th>\n",
       "      <td id=\"T_9ac91_row7_col0\" class=\"data row7 col0\" >0</td>\n",
       "      <td id=\"T_9ac91_row7_col1\" class=\"data row7 col1\" >0</td>\n",
       "      <td id=\"T_9ac91_row7_col2\" class=\"data row7 col2\" >0</td>\n",
       "      <td id=\"T_9ac91_row7_col3\" class=\"data row7 col3\" >0</td>\n",
       "      <td id=\"T_9ac91_row7_col4\" class=\"data row7 col4\" >0</td>\n",
       "      <td id=\"T_9ac91_row7_col5\" class=\"data row7 col5\" >0</td>\n",
       "      <td id=\"T_9ac91_row7_col6\" class=\"data row7 col6\" >0</td>\n",
       "      <td id=\"T_9ac91_row7_col7\" class=\"data row7 col7\" >14</td>\n",
       "      <td id=\"T_9ac91_row7_col8\" class=\"data row7 col8\" >101</td>\n",
       "      <td id=\"T_9ac91_row7_col9\" class=\"data row7 col9\" >223</td>\n",
       "      <td id=\"T_9ac91_row7_col10\" class=\"data row7 col10\" >253</td>\n",
       "      <td id=\"T_9ac91_row7_col11\" class=\"data row7 col11\" >248</td>\n",
       "      <td id=\"T_9ac91_row7_col12\" class=\"data row7 col12\" >124</td>\n",
       "      <td id=\"T_9ac91_row7_col13\" class=\"data row7 col13\" >0</td>\n",
       "      <td id=\"T_9ac91_row7_col14\" class=\"data row7 col14\" >0</td>\n",
       "      <td id=\"T_9ac91_row7_col15\" class=\"data row7 col15\" >0</td>\n",
       "      <td id=\"T_9ac91_row7_col16\" class=\"data row7 col16\" >0</td>\n",
       "      <td id=\"T_9ac91_row7_col17\" class=\"data row7 col17\" >0</td>\n",
       "      <td id=\"T_9ac91_row7_col18\" class=\"data row7 col18\" >0</td>\n",
       "      <td id=\"T_9ac91_row7_col19\" class=\"data row7 col19\" >0</td>\n",
       "      <td id=\"T_9ac91_row7_col20\" class=\"data row7 col20\" >0</td>\n",
       "    </tr>\n",
       "    <tr>\n",
       "      <th id=\"T_9ac91_level0_row8\" class=\"row_heading level0 row8\" >8</th>\n",
       "      <td id=\"T_9ac91_row8_col0\" class=\"data row8 col0\" >0</td>\n",
       "      <td id=\"T_9ac91_row8_col1\" class=\"data row8 col1\" >0</td>\n",
       "      <td id=\"T_9ac91_row8_col2\" class=\"data row8 col2\" >0</td>\n",
       "      <td id=\"T_9ac91_row8_col3\" class=\"data row8 col3\" >0</td>\n",
       "      <td id=\"T_9ac91_row8_col4\" class=\"data row8 col4\" >0</td>\n",
       "      <td id=\"T_9ac91_row8_col5\" class=\"data row8 col5\" >11</td>\n",
       "      <td id=\"T_9ac91_row8_col6\" class=\"data row8 col6\" >166</td>\n",
       "      <td id=\"T_9ac91_row8_col7\" class=\"data row8 col7\" >239</td>\n",
       "      <td id=\"T_9ac91_row8_col8\" class=\"data row8 col8\" >253</td>\n",
       "      <td id=\"T_9ac91_row8_col9\" class=\"data row8 col9\" >253</td>\n",
       "      <td id=\"T_9ac91_row8_col10\" class=\"data row8 col10\" >253</td>\n",
       "      <td id=\"T_9ac91_row8_col11\" class=\"data row8 col11\" >187</td>\n",
       "      <td id=\"T_9ac91_row8_col12\" class=\"data row8 col12\" >30</td>\n",
       "      <td id=\"T_9ac91_row8_col13\" class=\"data row8 col13\" >0</td>\n",
       "      <td id=\"T_9ac91_row8_col14\" class=\"data row8 col14\" >0</td>\n",
       "      <td id=\"T_9ac91_row8_col15\" class=\"data row8 col15\" >0</td>\n",
       "      <td id=\"T_9ac91_row8_col16\" class=\"data row8 col16\" >0</td>\n",
       "      <td id=\"T_9ac91_row8_col17\" class=\"data row8 col17\" >0</td>\n",
       "      <td id=\"T_9ac91_row8_col18\" class=\"data row8 col18\" >0</td>\n",
       "      <td id=\"T_9ac91_row8_col19\" class=\"data row8 col19\" >0</td>\n",
       "      <td id=\"T_9ac91_row8_col20\" class=\"data row8 col20\" >0</td>\n",
       "    </tr>\n",
       "    <tr>\n",
       "      <th id=\"T_9ac91_level0_row9\" class=\"row_heading level0 row9\" >9</th>\n",
       "      <td id=\"T_9ac91_row9_col0\" class=\"data row9 col0\" >0</td>\n",
       "      <td id=\"T_9ac91_row9_col1\" class=\"data row9 col1\" >0</td>\n",
       "      <td id=\"T_9ac91_row9_col2\" class=\"data row9 col2\" >0</td>\n",
       "      <td id=\"T_9ac91_row9_col3\" class=\"data row9 col3\" >0</td>\n",
       "      <td id=\"T_9ac91_row9_col4\" class=\"data row9 col4\" >0</td>\n",
       "      <td id=\"T_9ac91_row9_col5\" class=\"data row9 col5\" >16</td>\n",
       "      <td id=\"T_9ac91_row9_col6\" class=\"data row9 col6\" >248</td>\n",
       "      <td id=\"T_9ac91_row9_col7\" class=\"data row9 col7\" >250</td>\n",
       "      <td id=\"T_9ac91_row9_col8\" class=\"data row9 col8\" >253</td>\n",
       "      <td id=\"T_9ac91_row9_col9\" class=\"data row9 col9\" >253</td>\n",
       "      <td id=\"T_9ac91_row9_col10\" class=\"data row9 col10\" >253</td>\n",
       "      <td id=\"T_9ac91_row9_col11\" class=\"data row9 col11\" >253</td>\n",
       "      <td id=\"T_9ac91_row9_col12\" class=\"data row9 col12\" >232</td>\n",
       "      <td id=\"T_9ac91_row9_col13\" class=\"data row9 col13\" >213</td>\n",
       "      <td id=\"T_9ac91_row9_col14\" class=\"data row9 col14\" >111</td>\n",
       "      <td id=\"T_9ac91_row9_col15\" class=\"data row9 col15\" >2</td>\n",
       "      <td id=\"T_9ac91_row9_col16\" class=\"data row9 col16\" >0</td>\n",
       "      <td id=\"T_9ac91_row9_col17\" class=\"data row9 col17\" >0</td>\n",
       "      <td id=\"T_9ac91_row9_col18\" class=\"data row9 col18\" >0</td>\n",
       "      <td id=\"T_9ac91_row9_col19\" class=\"data row9 col19\" >0</td>\n",
       "      <td id=\"T_9ac91_row9_col20\" class=\"data row9 col20\" >0</td>\n",
       "    </tr>\n",
       "    <tr>\n",
       "      <th id=\"T_9ac91_level0_row10\" class=\"row_heading level0 row10\" >10</th>\n",
       "      <td id=\"T_9ac91_row10_col0\" class=\"data row10 col0\" >0</td>\n",
       "      <td id=\"T_9ac91_row10_col1\" class=\"data row10 col1\" >0</td>\n",
       "      <td id=\"T_9ac91_row10_col2\" class=\"data row10 col2\" >0</td>\n",
       "      <td id=\"T_9ac91_row10_col3\" class=\"data row10 col3\" >0</td>\n",
       "      <td id=\"T_9ac91_row10_col4\" class=\"data row10 col4\" >0</td>\n",
       "      <td id=\"T_9ac91_row10_col5\" class=\"data row10 col5\" >0</td>\n",
       "      <td id=\"T_9ac91_row10_col6\" class=\"data row10 col6\" >0</td>\n",
       "      <td id=\"T_9ac91_row10_col7\" class=\"data row10 col7\" >43</td>\n",
       "      <td id=\"T_9ac91_row10_col8\" class=\"data row10 col8\" >98</td>\n",
       "      <td id=\"T_9ac91_row10_col9\" class=\"data row10 col9\" >98</td>\n",
       "      <td id=\"T_9ac91_row10_col10\" class=\"data row10 col10\" >208</td>\n",
       "      <td id=\"T_9ac91_row10_col11\" class=\"data row10 col11\" >253</td>\n",
       "      <td id=\"T_9ac91_row10_col12\" class=\"data row10 col12\" >253</td>\n",
       "      <td id=\"T_9ac91_row10_col13\" class=\"data row10 col13\" >253</td>\n",
       "      <td id=\"T_9ac91_row10_col14\" class=\"data row10 col14\" >253</td>\n",
       "      <td id=\"T_9ac91_row10_col15\" class=\"data row10 col15\" >187</td>\n",
       "      <td id=\"T_9ac91_row10_col16\" class=\"data row10 col16\" >22</td>\n",
       "      <td id=\"T_9ac91_row10_col17\" class=\"data row10 col17\" >0</td>\n",
       "      <td id=\"T_9ac91_row10_col18\" class=\"data row10 col18\" >0</td>\n",
       "      <td id=\"T_9ac91_row10_col19\" class=\"data row10 col19\" >0</td>\n",
       "      <td id=\"T_9ac91_row10_col20\" class=\"data row10 col20\" >0</td>\n",
       "    </tr>\n",
       "  </tbody>\n",
       "</table>\n"
      ],
      "text/plain": [
       "<pandas.io.formats.style.Styler at 0x7c5a5bc024a0>"
      ]
     },
     "execution_count": 9,
     "metadata": {},
     "output_type": "execute_result"
    }
   ],
   "source": [
    "tens = tensor(im3)\n",
    "df = pd.DataFrame(tens[4:15,4:25])\n",
    "df.style.set_properties(**{'font-size': '6pt'}).background_gradient('Greens')"
   ]
  },
  {
   "cell_type": "code",
   "execution_count": 10,
   "id": "73de2e6a-035b-4563-8837-972ab5f02474",
   "metadata": {},
   "outputs": [
    {
     "data": {
      "text/plain": [
       "(6131, 6265)"
      ]
     },
     "execution_count": 10,
     "metadata": {},
     "output_type": "execute_result"
    }
   ],
   "source": [
    "seven_tensors = [tensor(Image.open(s)) for s in sevens]\n",
    "three_tensors = [tensor(Image.open(t)) for t in threes]\n",
    "len(three_tensors), len(seven_tensors)"
   ]
  },
  {
   "cell_type": "code",
   "execution_count": 11,
   "id": "850db99a-778a-4d80-a7ce-a98423ed6e9b",
   "metadata": {},
   "outputs": [
    {
     "data": {
      "text/plain": [
       "<Axes: >"
      ]
     },
     "execution_count": 11,
     "metadata": {},
     "output_type": "execute_result"
    },
    {
     "data": {
      "image/png": "[encoded data removed]",
      "text/plain": [
       "<Figure size 100x100 with 1 Axes>"
      ]
     },
     "metadata": {},
     "output_type": "display_data"
    }
   ],
   "source": [
    "show_image(seven_tensors[2])"
   ]
  },
  {
   "cell_type": "code",
   "execution_count": 12,
   "id": "f82517db-74b1-4119-a7ca-ab0a494042ee",
   "metadata": {},
   "outputs": [
    {
     "data": {
      "text/plain": [
       "torch.Size([6131, 28, 28])"
      ]
     },
     "execution_count": 12,
     "metadata": {},
     "output_type": "execute_result"
    }
   ],
   "source": [
    "stacked_threes = torch.stack(three_tensors).float()/255\n",
    "stacked_sevens = torch.stack(seven_tensors).float()/255\n",
    "stacked_threes.shape"
   ]
  },
  {
   "cell_type": "code",
   "execution_count": 13,
   "id": "cff26833-4935-4c3b-a27c-725200eae5ea",
   "metadata": {},
   "outputs": [
    {
     "data": {
      "text/plain": [
       "3"
      ]
     },
     "execution_count": 13,
     "metadata": {},
     "output_type": "execute_result"
    }
   ],
   "source": [
    "len(stacked_threes.shape)"
   ]
  },
  {
   "cell_type": "code",
   "execution_count": 14,
   "id": "c2a815b0-fb66-4a26-bbb1-c69a0d7c08c2",
   "metadata": {},
   "outputs": [
    {
     "data": {
      "text/plain": [
       "3"
      ]
     },
     "execution_count": 14,
     "metadata": {},
     "output_type": "execute_result"
    }
   ],
   "source": [
    "stacked_threes.ndim"
   ]
  },
  {
   "cell_type": "code",
   "execution_count": 15,
   "id": "fb7adb0b-89e1-461f-960e-00dc42914c45",
   "metadata": {},
   "outputs": [
    {
     "data": {
      "text/plain": [
       "<Axes: >"
      ]
     },
     "execution_count": 15,
     "metadata": {},
     "output_type": "execute_result"
    },
    {
     "data": {
      "image/png": "[encoded data removed]",
      "text/plain": [
       "<Figure size 100x100 with 1 Axes>"
      ]
     },
     "metadata": {},
     "output_type": "display_data"
    }
   ],
   "source": [
    "mean3 = stacked_threes.mean(0)\n",
    "show_image(mean3)"
   ]
  },
  {
   "cell_type": "code",
   "execution_count": 16,
   "id": "1896ed21-7c43-488f-a52c-6c6cd7d2fcce",
   "metadata": {},
   "outputs": [],
   "source": [
    "# show_image(stacked_threes.mean(1), figsize=(2,1000))\n",
    "# show_image(stacked_sevens.mean(2), figsize=(2,1000))"
   ]
  },
  {
   "cell_type": "code",
   "execution_count": 17,
   "id": "e87089b6-c84d-4db0-95a2-8e17f28b5acc",
   "metadata": {},
   "outputs": [
    {
     "data": {
      "text/plain": [
       "<Axes: >"
      ]
     },
     "execution_count": 17,
     "metadata": {},
     "output_type": "execute_result"
    },
    {
     "data": {
      "image/png": "[encoded data removed]",
      "text/plain": [
       "<Figure size 100x100 with 1 Axes>"
      ]
     },
     "metadata": {},
     "output_type": "display_data"
    }
   ],
   "source": [
    "mean7 = stacked_sevens.mean(0)\n",
    "show_image(mean7)"
   ]
  },
  {
   "cell_type": "code",
   "execution_count": 18,
   "id": "38f0f4e9-3467-418b-b374-fcd3d4bbcd1b",
   "metadata": {},
   "outputs": [
    {
     "data": {
      "text/plain": [
       "<Axes: >"
      ]
     },
     "execution_count": 18,
     "metadata": {},
     "output_type": "execute_result"
    },
    {
     "data": {
      "image/png": "[encoded data removed]",
      "text/plain": [
       "<Figure size 100x100 with 1 Axes>"
      ]
     },
     "metadata": {},
     "output_type": "display_data"
    }
   ],
   "source": [
    "test_three = stacked_threes[10]\n",
    "show_image(test_three)"
   ]
  },
  {
   "cell_type": "code",
   "execution_count": 19,
   "id": "c7efa23a-7cd3-4bc0-8beb-19c16ba8e055",
   "metadata": {},
   "outputs": [],
   "source": [
    "def check_number_L1_norm(n: tensor):\n",
    "    d3 = (n-mean3).abs().mean()\n",
    "    d7 = (n-mean7).abs().mean()\n",
    "    if d3 < d7:\n",
    "        return f\"Could be a 3, with a distance of {d3} against {d7}\"\n",
    "    return f\"Could be a 7, with a distance of {d7} against {d3}\""
   ]
  },
  {
   "cell_type": "code",
   "execution_count": 20,
   "id": "0af54d80-b3a4-47fc-9ab5-171781174166",
   "metadata": {},
   "outputs": [
    {
     "data": {
      "text/plain": [
       "'Could be a 7, with a distance of 0.11215893179178238 against 0.12756185233592987'"
      ]
     },
     "execution_count": 20,
     "metadata": {},
     "output_type": "execute_result"
    }
   ],
   "source": [
    "check_number_L1_norm(stacked_sevens[100])"
   ]
  },
  {
   "cell_type": "code",
   "execution_count": 21,
   "id": "fcc6fc61-490c-4c43-abbd-b2b9780c29de",
   "metadata": {},
   "outputs": [
    {
     "data": {
      "text/plain": [
       "'Could be a 3, with a distance of 0.1150953397154808 against 0.12074664235115051'"
      ]
     },
     "execution_count": 21,
     "metadata": {},
     "output_type": "execute_result"
    }
   ],
   "source": [
    "check_number_L1_norm(stacked_threes[23])"
   ]
  },
  {
   "cell_type": "code",
   "execution_count": 22,
   "id": "334b4f73-eef8-4c0a-aac1-ca68e0023cb7",
   "metadata": {},
   "outputs": [
    {
     "data": {
      "text/plain": [
       "667"
      ]
     },
     "execution_count": 22,
     "metadata": {},
     "output_type": "execute_result"
    }
   ],
   "source": [
    "failed3 = 0\n",
    "for t in stacked_threes:\n",
    "    if check_number_L1_norm(t).startswith(\"Could be a 7\"):\n",
    "        failed3 = failed3 + 1\n",
    "failed3"
   ]
  },
  {
   "cell_type": "code",
   "execution_count": 23,
   "id": "f5d3175e-0ed3-4d0e-83eb-e5e0bb637e26",
   "metadata": {},
   "outputs": [
    {
     "data": {
      "text/plain": [
       "24"
      ]
     },
     "execution_count": 23,
     "metadata": {},
     "output_type": "execute_result"
    }
   ],
   "source": [
    "failed7 = 0\n",
    "for s in stacked_sevens:\n",
    "    if check_number_L1_norm(s).startswith(\"Could be a 3\"):\n",
    "        failed7 = failed7 + 1\n",
    "failed7"
   ]
  },
  {
   "cell_type": "code",
   "execution_count": 24,
   "id": "3eee214a-5625-4d0f-bd8a-490588b07244",
   "metadata": {},
   "outputs": [],
   "source": [
    "def check_number_L2_norm(n: tensor):\n",
    "    d3 = ((n - mean3)**2).mean().sqrt()\n",
    "    d7 = ((n - mean7)**2).mean().sqrt()\n",
    "    if d3 < d7:\n",
    "        return f\"Could be a 3, with a distance of {d3} against {d7}\"\n",
    "    return f\"Could be a 7, with a distance of {d7} against {d3}\""
   ]
  },
  {
   "cell_type": "code",
   "execution_count": 65,
   "id": "21cb4004-f703-40ad-8ee8-2cb3a1d7d2b7",
   "metadata": {},
   "outputs": [
    {
     "data": {
      "text/plain": [
       "283"
      ]
     },
     "execution_count": 65,
     "metadata": {},
     "output_type": "execute_result"
    }
   ],
   "source": [
    "failed3 = 0\n",
    "for t in stacked_threes:\n",
    "    if check_number_L2_norm(t).startswith(\"Could be a 7\"):\n",
    "        failed3 = failed3 + 1\n",
    "failed3"
   ]
  },
  {
   "cell_type": "code",
   "execution_count": 66,
   "id": "53d638db-f80e-4612-82ab-9fbd32c59652",
   "metadata": {},
   "outputs": [
    {
     "data": {
      "text/plain": [
       "106"
      ]
     },
     "execution_count": 66,
     "metadata": {},
     "output_type": "execute_result"
    }
   ],
   "source": [
    "failed7 = 0\n",
    "for s in stacked_sevens:\n",
    "    if check_number_L2_norm(s).startswith(\"Could be a 3\"):\n",
    "        failed7 = failed7 + 1\n",
    "failed7"
   ]
  },
  {
   "cell_type": "code",
   "execution_count": 27,
   "id": "b93067e3-4807-4385-9f2a-b21d3f920807",
   "metadata": {},
   "outputs": [
    {
     "data": {
      "text/plain": [
       "(tensor(0.1300), tensor(0.1680))"
      ]
     },
     "execution_count": 27,
     "metadata": {},
     "output_type": "execute_result"
    }
   ],
   "source": [
    "F.l1_loss(stacked_threes[4], mean3), F.l1_loss(stacked_threes[4], mean7)"
   ]
  },
  {
   "cell_type": "code",
   "execution_count": 28,
   "id": "6a6d96ed-3eb2-4b68-b4c7-0a8ac0f855fa",
   "metadata": {},
   "outputs": [
    {
     "data": {
      "text/plain": [
       "(tensor(0.0477), tensor(0.0904))"
      ]
     },
     "execution_count": 28,
     "metadata": {},
     "output_type": "execute_result"
    }
   ],
   "source": [
    "F.mse_loss(stacked_sevens[22], mean7), F.mse_loss(stacked_sevens[22], mean3)"
   ]
  },
  {
   "cell_type": "code",
   "execution_count": 69,
   "id": "6e96f773-bc8f-4bae-ade1-4a1afb07bf44",
   "metadata": {},
   "outputs": [
    {
     "data": {
      "text/plain": [
       "(torch.Size([1010, 28, 28]), torch.Size([1028, 28, 28]))"
      ]
     },
     "execution_count": 69,
     "metadata": {},
     "output_type": "execute_result"
    }
   ],
   "source": [
    "valid_3_tens = torch.stack([tensor(Image.open(o)) for o in (path/'valid'/'3').ls()])\n",
    "valid_7_tens = torch.stack([tensor(Image.open(o)) for o in (path/'valid'/'7').ls()])\n",
    "valid_3_tens = valid_3_tens.float()/255\n",
    "valid_7_tens = valid_7_tens.float()/255\n",
    "valid_3_tens.shape, valid_7_tens.shape"
   ]
  },
  {
   "cell_type": "code",
   "execution_count": 81,
   "id": "4f7cbf80-e08e-4a88-8142-fa547ccd99aa",
   "metadata": {},
   "outputs": [
    {
     "data": {
      "text/plain": [
       "(tensor(0.1286), tensor(0.1313))"
      ]
     },
     "execution_count": 81,
     "metadata": {},
     "output_type": "execute_result"
    }
   ],
   "source": [
    "def mnist_distance(a,b): return (a-b).abs().mean((-1,-2))\n",
    "mnist_distance(stacked_threes[12], mean3), mnist_distance(stacked_threes, mean3).mean()"
   ]
  },
  {
   "cell_type": "code",
   "execution_count": 71,
   "id": "ac477522-986c-416c-bcbd-ab761d64af42",
   "metadata": {},
   "outputs": [
    {
     "data": {
      "text/plain": [
       "(tensor([0.1142, 0.1162, 0.1143,  ..., 0.1186, 0.1061, 0.1331]),\n",
       " torch.Size([1010]))"
      ]
     },
     "execution_count": 71,
     "metadata": {},
     "output_type": "execute_result"
    }
   ],
   "source": [
    "valid_3_dist = mnist_distance(valid_3_tens, mean3)\n",
    "valid_3_dist, valid_3_dist.shape"
   ]
  },
  {
   "cell_type": "code",
   "execution_count": 39,
   "id": "e8805b06-6078-4e88-b3d8-40e5ad9c4636",
   "metadata": {},
   "outputs": [
    {
     "data": {
      "text/plain": [
       "torch.Size([6131, 28, 28])"
      ]
     },
     "execution_count": 39,
     "metadata": {},
     "output_type": "execute_result"
    }
   ],
   "source": [
    "(stacked_threes-mean3).shape"
   ]
  },
  {
   "cell_type": "code",
   "execution_count": 45,
   "id": "830ffa1d-41c0-48df-a161-09e3b67b9c3e",
   "metadata": {},
   "outputs": [
    {
     "data": {
      "text/plain": [
       "(torch.Size([3]), torch.Size([]))"
      ]
     },
     "execution_count": 45,
     "metadata": {},
     "output_type": "execute_result"
    }
   ],
   "source": [
    "tensor([1,2,3]).shape, tensor(1).shape"
   ]
  },
  {
   "cell_type": "code",
   "execution_count": 50,
   "id": "a1b7e4a4-b6fb-4bf8-b079-33a0b89610a4",
   "metadata": {},
   "outputs": [
    {
     "data": {
      "text/plain": [
       "tensor([[ 5,  6],\n",
       "        [ 7,  8],\n",
       "        [ 9, 10]])"
      ]
     },
     "execution_count": 50,
     "metadata": {},
     "output_type": "execute_result"
    }
   ],
   "source": [
    "(tensor([1,1]) + tensor([[4,5],[6,7],[8,9]]))"
   ]
  },
  {
   "cell_type": "code",
   "execution_count": 60,
   "id": "eb49ee66-e220-4155-88c8-6235dabf2536",
   "metadata": {},
   "outputs": [
    {
     "data": {
      "text/plain": [
       "tensor([[[  5, 105],\n",
       "         [  7, 107]],\n",
       "\n",
       "        [[  9, 109],\n",
       "         [  5, 105]],\n",
       "\n",
       "        [[  7, 107],\n",
       "         [  9, 109]],\n",
       "\n",
       "        [[  5, 105],\n",
       "         [  7, 107]],\n",
       "\n",
       "        [[  9, 109],\n",
       "         [  2, 102]]])"
      ]
     },
     "execution_count": 60,
     "metadata": {},
     "output_type": "execute_result"
    }
   ],
   "source": [
    "(tensor([1,100]) + tensor([[[4,5],[6,7]],[[8,9],[4,5]],[[6,7],[8,9]],[[4,5],[6,7]],[[8,9],[1,2]]]))"
   ]
  },
  {
   "cell_type": "code",
   "execution_count": 72,
   "id": "59443113-f5cb-4628-86c4-9aaf8f6bbb23",
   "metadata": {},
   "outputs": [],
   "source": [
    "def is_3(x): return mnist_distance(x,mean3) < mnist_distance(x,mean7)"
   ]
  },
  {
   "cell_type": "code",
   "execution_count": 84,
   "id": "8a170fdc-8fce-43d5-9ee5-948230e42ec3",
   "metadata": {},
   "outputs": [
    {
     "data": {
      "text/plain": [
       "tensor([False,  True])"
      ]
     },
     "execution_count": 84,
     "metadata": {},
     "output_type": "execute_result"
    }
   ],
   "source": [
    "tensor([1,1]) < tensor([0,5])"
   ]
  },
  {
   "cell_type": "code",
   "execution_count": 74,
   "id": "8a1ccc5a-8c1c-460a-b0a3-6e523108c342",
   "metadata": {},
   "outputs": [
    {
     "data": {
      "text/plain": [
       "(tensor(True), tensor(0.9168))"
      ]
     },
     "execution_count": 74,
     "metadata": {},
     "output_type": "execute_result"
    }
   ],
   "source": [
    "is_3(valid_3_tens[2]), is_3(valid_3_tens).float().mean()"
   ]
  },
  {
   "cell_type": "code",
   "execution_count": 85,
   "id": "6f397a41-5aaa-4543-a0e2-770bffa11257",
   "metadata": {},
   "outputs": [
    {
     "data": {
      "text/plain": [
       "(tensor(False), tensor(0.0146))"
      ]
     },
     "execution_count": 85,
     "metadata": {},
     "output_type": "execute_result"
    }
   ],
   "source": [
    "is_3(valid_7_tens[2]), is_3(valid_7_tens).float().mean()"
   ]
  },
  {
   "cell_type": "code",
   "execution_count": 78,
   "id": "b903d532-572e-4a85-97ed-b0a12011b5fa",
   "metadata": {},
   "outputs": [
    {
     "data": {
      "text/plain": [
       "(tensor(0.9168), tensor(0.9854), tensor(0.9511))"
      ]
     },
     "execution_count": 78,
     "metadata": {},
     "output_type": "execute_result"
    }
   ],
   "source": [
    "accuracy_3s = is_3(valid_3_tens).float().mean()\n",
    "accuracy_7s = (1-is_3(valid_7_tens).float()).mean()\n",
    "accuracy_3s, accuracy_7s, (accuracy_3s + accuracy_7s)/2"
   ]
  },
  {
   "cell_type": "code",
   "execution_count": null,
   "id": "549ec00d-e42e-4b04-bb25-4cf13bb62add",
   "metadata": {},
   "outputs": [],
   "source": [
    "a"
   ]
  }
 ],
 "metadata": {
  "kernelspec": {
   "display_name": "Python 3 (ipykernel)",
   "language": "python",
   "name": "python3"
  },
  "language_info": {
   "codemirror_mode": {
    "name": "ipython",
    "version": 3
   },
   "file_extension": ".py",
   "mimetype": "text/x-python",
   "name": "python",
   "nbconvert_exporter": "python",
   "pygments_lexer": "ipython3",
   "version": "3.10.12"
  }
 },
 "nbformat": 4,
 "nbformat_minor": 5
}
